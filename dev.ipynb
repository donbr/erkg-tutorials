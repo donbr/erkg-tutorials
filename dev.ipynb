{
 "cells": [
  {
   "cell_type": "code",
   "execution_count": 1,
   "id": "19a62e59-d459-4caf-b566-e4060c297986",
   "metadata": {
    "execution": {
     "iopub.execute_input": "2024-09-01T11:24:55.029844Z",
     "iopub.status.busy": "2024-09-01T11:24:55.029053Z",
     "iopub.status.idle": "2024-09-01T11:24:55.042816Z",
     "shell.execute_reply": "2024-09-01T11:24:55.039457Z",
     "shell.execute_reply.started": "2024-09-01T11:24:55.029797Z"
    }
   },
   "outputs": [],
   "source": [
    "import requests\n",
    "import spacy\n",
    "from bs4 import BeautifulSoup, SoupStrainer\n",
    "from spacy.tokens import DocBin\n",
    "from spacy import displacy"
   ]
  },
  {
   "cell_type": "code",
   "execution_count": 2,
   "id": "a5c381f0-b1b1-4386-a03a-d816310214a6",
   "metadata": {
    "execution": {
     "iopub.execute_input": "2024-09-01T11:24:05.201216Z",
     "iopub.status.busy": "2024-09-01T11:24:05.199380Z",
     "iopub.status.idle": "2024-09-01T11:24:05.216933Z",
     "shell.execute_reply": "2024-09-01T11:24:05.212477Z",
     "shell.execute_reply.started": "2024-09-01T11:24:05.201117Z"
    }
   },
   "outputs": [],
   "source": [
    "from src.scraper import IcijScraper, SPACY_MODEL"
   ]
  },
  {
   "cell_type": "markdown",
   "id": "abd15595-e1e5-42b4-89e3-66f9054a6774",
   "metadata": {},
   "source": [
    "## load docBin with default NER entities"
   ]
  },
  {
   "cell_type": "code",
   "execution_count": 3,
   "id": "f4d6b761-455f-42b7-9c0c-49f99a98c3b3",
   "metadata": {
    "execution": {
     "iopub.execute_input": "2024-09-01T11:24:07.798152Z",
     "iopub.status.busy": "2024-09-01T11:24:07.797382Z",
     "iopub.status.idle": "2024-09-01T11:24:07.848082Z",
     "shell.execute_reply": "2024-09-01T11:24:07.847636Z",
     "shell.execute_reply.started": "2024-09-01T11:24:07.798109Z"
    }
   },
   "outputs": [],
   "source": [
    "doc_bin = DocBin().from_disk(path=\"data/dataset.spacy\") "
   ]
  },
  {
   "cell_type": "code",
   "execution_count": 4,
   "id": "ac2bf51f-d12f-422b-9455-d741e2329dc8",
   "metadata": {
    "execution": {
     "iopub.execute_input": "2024-09-01T11:24:08.646342Z",
     "iopub.status.busy": "2024-09-01T11:24:08.642450Z",
     "iopub.status.idle": "2024-09-01T11:24:08.681562Z",
     "shell.execute_reply": "2024-09-01T11:24:08.670816Z",
     "shell.execute_reply.started": "2024-09-01T11:24:08.646264Z"
    }
   },
   "outputs": [
    {
     "data": {
      "text/plain": [
       "2"
      ]
     },
     "execution_count": 4,
     "metadata": {},
     "output_type": "execute_result"
    }
   ],
   "source": [
    "len(doc_bin)"
   ]
  },
  {
   "cell_type": "code",
   "execution_count": 5,
   "id": "76623c98-28b4-4c69-a356-17e9148ddb42",
   "metadata": {
    "execution": {
     "iopub.execute_input": "2024-09-01T11:33:51.029465Z",
     "iopub.status.busy": "2024-09-01T11:33:51.029054Z",
     "iopub.status.idle": "2024-09-01T11:33:51.915134Z",
     "shell.execute_reply": "2024-09-01T11:33:51.914729Z",
     "shell.execute_reply.started": "2024-09-01T11:33:51.029433Z"
    }
   },
   "outputs": [],
   "source": [
    "scrape_nlp: spacy.Language = spacy.load(SPACY_MODEL)"
   ]
  },
  {
   "cell_type": "code",
   "execution_count": 6,
   "id": "3f71a1a1-67c6-4345-b025-469c0877bee7",
   "metadata": {
    "execution": {
     "iopub.execute_input": "2024-09-01T11:33:54.625210Z",
     "iopub.status.busy": "2024-09-01T11:33:54.624322Z",
     "iopub.status.idle": "2024-09-01T11:33:54.667658Z",
     "shell.execute_reply": "2024-09-01T11:33:54.667054Z",
     "shell.execute_reply.started": "2024-09-01T11:33:54.625165Z"
    }
   },
   "outputs": [],
   "source": [
    "docs = list(doc_bin.get_docs(scrape_nlp.vocab))"
   ]
  },
  {
   "cell_type": "code",
   "execution_count": 7,
   "id": "cfd9b3b8-53c8-4d1c-a28e-77d1fa46be64",
   "metadata": {
    "execution": {
     "iopub.execute_input": "2024-09-01T11:33:55.663603Z",
     "iopub.status.busy": "2024-09-01T11:33:55.660561Z",
     "iopub.status.idle": "2024-09-01T11:33:55.679677Z",
     "shell.execute_reply": "2024-09-01T11:33:55.679209Z",
     "shell.execute_reply.started": "2024-09-01T11:33:55.663544Z"
    },
    "scrolled": true
   },
   "outputs": [
    {
     "name": "stderr",
     "output_type": "stream",
     "text": [
      "/home/donbr/erkg-tutorials/venv/lib/python3.12/site-packages/spacy/displacy/__init__.py:213: UserWarning: [W006] No entities to visualize found in Doc object. If this is surprising to you, make sure the Doc was processed using a model that supports named entity recognition, and check the `doc.ents` property manually if necessary.\n",
      "  warnings.warn(Warnings.W006)\n"
     ]
    },
    {
     "data": {
      "text/html": [
       "<span class=\"tex2jax_ignore\"><div class=\"entities\" style=\"line-height: 2.5; direction: ltr\">Former Czech leader’s secret French estate, revealed in Pandora Papers, listed for sale.<br>The luxury Riviera property featured in ICIJ’s investigation into then-Prime Minister Andrej Babis’ secret offshore dealings, and is now part of a money laundering probe by French authorities.<br>Former Czech prime minister Andrej Babis.<br>High-end real estate agency Sotheby’s International Realty has listed for sale the sprawling French property of former Czech prime minister Andrej Babis which was first revealed in the Pandora Papers by the International Consortium of Investigative Journalists.<br>The $24.7 million villa, located in the town of Mougins, near Cannes, was at the center of the 2021 investigation into the secret offshore dealings of the Czech billionaire-turned-politician, who was one of dozens of politicians and public officials from around the world who used shell companies in secrecy jurisdictions to shield their assets from public scrutiny.<br>ICIJ and its media partners found that, in 2009, Babis used a Panama-based financial service provider to set up shell companies in the British Virgin Islands, Washington, D.C. and Monaco, and move $22 million through the firms to secretly buy the lavish estate named Chateau Bigaud.<br>Following the revelations, French authorities launched an investigation into Babis’ acquisition of the property, as part of a probe into allegations of money laundering, Le Monde reported. The investigation is ongoing.<br>Babis, a businessman who made his fortune running the Agrofert conglomerate, bought the property before he founded a centrist political movement called ANO, Czech for “Yes” and an acronym that translates as “Action of Dissatisfied Citizens.”<br>However, asset declaration forms obtained by Investigace.cz, ICIJ’s Czech media partner, showed that, at the time he was Czech Republic’s prime minister, neither the chateau property nor the companies involved in its ownership appeared in documents that he had filed, as required by Czech law, since his entry into politics.<br>Babis, who didn’t respond to ICIJ’s questions on the property deal, has publicly denied wrongdoing and said he did “nothing illegal or wrong.”<br>A screenshot of the Sothebys website, that describes Chateau Bigaud as “magnificent and exclusive.”<br>The website of Sotheby’s International Realty for the first time shows detailed photos of the property which was built in 2008 and comprises two pools, a tennis court, a wine cellar and a grotto.<br>A spokeswoman for the agency’s Cannes office declined to provide details on the seller, citing client confidentiality reasons. She told ICIJ that the property has belonged to the same owner for more than 10 years and was used as a “secondary home.” Some potential buyers have visited it but “nothing serious for the moment,” it’s still on sale, the spokeswoman said.<br>Babis’ ownership and purchase of the property in Southern France was in sharp contrast to his cultivated image as the politician who vowed to fight unemployment and corruption and increase government transparency and tax revenues.<br>Experts interviewed by ICIJ in 2021 said the offshore arrangement used by Babis to buy the chateau could have reduced his tax bill while hiding his ownership of the property from the public.<br>Days after ICIJ revealed Babis’ secret offshore deals in October 2021, his ANO party lost the country’s parliamentary election. Last year, he unsuccessfully ran for president.<br>Babis recently co-founded the far-right Patriots for Europe group in the European Parliament alongside Hungarian Prime Minister Victor Orbán and Austria’s Freedom Party leader Herbert Kickl.</div></span>"
      ],
      "text/plain": [
       "<IPython.core.display.HTML object>"
      ]
     },
     "metadata": {},
     "output_type": "display_data"
    }
   ],
   "source": [
    "displacy.render(docs[0], style=\"ent\")"
   ]
  },
  {
   "cell_type": "markdown",
   "id": "732a09fa-62b5-41d9-b6ba-daff9abdc9fd",
   "metadata": {
    "jp-MarkdownHeadingCollapsed": true
   },
   "source": [
    "## apply a different NER model on DocBin"
   ]
  },
  {
   "cell_type": "code",
   "execution_count": 9,
   "id": "8bff2807-92d3-4eda-aca1-27e21e34bceb",
   "metadata": {
    "execution": {
     "iopub.execute_input": "2024-09-01T11:24:23.163009Z",
     "iopub.status.busy": "2024-09-01T11:24:23.161801Z",
     "iopub.status.idle": "2024-09-01T11:24:42.808907Z",
     "shell.execute_reply": "2024-09-01T11:24:42.808531Z",
     "shell.execute_reply.started": "2024-09-01T11:24:23.162947Z"
    }
   },
   "outputs": [
    {
     "data": {
      "application/vnd.jupyter.widget-view+json": {
       "model_id": "c927557d0de34d1293d90ad294c4f29e",
       "version_major": 2,
       "version_minor": 0
      },
      "text/plain": [
       "Fetching 4 files:   0%|          | 0/4 [00:00<?, ?it/s]"
      ]
     },
     "metadata": {},
     "output_type": "display_data"
    },
    {
     "name": "stderr",
     "output_type": "stream",
     "text": [
      "/home/donbr/erkg-tutorials/venv/lib/python3.12/site-packages/transformers/tokenization_utils_base.py:1617: FutureWarning: `clean_up_tokenization_spaces` was not set. It will be set to `True` by default. This behavior will be deprecated in transformers v4.45, and will be then set to `False` by default. For more details check this issue: https://github.com/huggingface/transformers/issues/31884\n",
      "  warnings.warn(\n",
      "/home/donbr/erkg-tutorials/venv/lib/python3.12/site-packages/transformers/convert_slow_tokenizer.py:558: UserWarning: The sentencepiece tokenizer that you are converting to a fast tokenizer uses the byte fallback option which is not implemented in the fast tokenizers. In practice this means that the fast version of the tokenizer can produce unknown tokens whereas the sentencepiece version would have converted these unknown tokens into a sequence of byte tokens matching the original piece of text.\n",
      "  warnings.warn(\n"
     ]
    },
    {
     "data": {
      "text/plain": [
       "<gliner_spacy.pipeline.GlinerSpacy at 0x7f457be60dd0>"
      ]
     },
     "execution_count": 9,
     "metadata": {},
     "output_type": "execute_result"
    }
   ],
   "source": [
    "import spacy\n",
    "from gliner_spacy.pipeline import (  # noqa: F401 because we need to register the factory with spacy\n",
    "    GlinerSpacy,\n",
    ")\n",
    "\n",
    "candidate_labels = [\n",
    "    \"persons\",\n",
    "    \"address\",\n",
    "    \"shell companies\",\n",
    "    \"banks or law firms\",\n",
    "]  # NuZero requires labels to be lower-cased\n",
    "\n",
    "model_name = \"numind/NuZero_token\"\n",
    "\n",
    "nlp = spacy.load(\"en_core_web_md\", disable=[\"ner\"])\n",
    "# nlp.add_pipe(\"span_marker\", config={\"model\": \"tomaarsen/span-marker-mbert-base-multinerd\"})\n",
    "nlp.add_pipe(\"gliner_spacy\")\n",
    "#     # config={\n",
    "#     #     \"gliner_model\": model_name,\n",
    "#     #     \"chunk_size\": 250,\n",
    "#     #     \"labels\": candidate_labels,\n",
    "#     #     \"style\": \"ent\",\n",
    "#     #     \"threshold\": 0.3,\n",
    "#     # },\n"
   ]
  },
  {
   "cell_type": "code",
   "execution_count": 10,
   "id": "e202e9a6-d2f8-41b2-9215-314a0015536e",
   "metadata": {
    "execution": {
     "iopub.execute_input": "2024-09-01T11:25:00.249971Z",
     "iopub.status.busy": "2024-09-01T11:25:00.249065Z",
     "iopub.status.idle": "2024-09-01T11:25:03.433175Z",
     "shell.execute_reply": "2024-09-01T11:25:03.432608Z",
     "shell.execute_reply.started": "2024-09-01T11:25:00.249921Z"
    },
    "scrolled": true
   },
   "outputs": [
    {
     "name": "stderr",
     "output_type": "stream",
     "text": [
      "Asking to truncate to max_length but no maximum length is provided and the model has no predefined maximum length. Default to no truncation.\n"
     ]
    },
    {
     "data": {
      "text/html": [
       "<span class=\"tex2jax_ignore\"><div class=\"entities\" style=\"line-height: 2.5; direction: ltr\">Former \n",
       "<mark class=\"entity\" style=\"background: #aa9cfc; padding: 0.45em 0.6em; margin: 0 0.25em; line-height: 1; border-radius: 0.35em;\">\n",
       "    Czech leader\n",
       "    <span style=\"font-size: 0.8em; font-weight: bold; line-height: 1; border-radius: 0.35em; vertical-align: middle; margin-left: 0.5rem\">person</span>\n",
       "</mark>\n",
       "’s secret French estate, revealed in \n",
       "<mark class=\"entity\" style=\"background: #ddd; padding: 0.45em 0.6em; margin: 0 0.25em; line-height: 1; border-radius: 0.35em;\">\n",
       "    Pandora Papers\n",
       "    <span style=\"font-size: 0.8em; font-weight: bold; line-height: 1; border-radius: 0.35em; vertical-align: middle; margin-left: 0.5rem\">organization</span>\n",
       "</mark>\n",
       ", listed for sale.<br>The luxury Riviera property featured in \n",
       "<mark class=\"entity\" style=\"background: #ddd; padding: 0.45em 0.6em; margin: 0 0.25em; line-height: 1; border-radius: 0.35em;\">\n",
       "    ICIJ\n",
       "    <span style=\"font-size: 0.8em; font-weight: bold; line-height: 1; border-radius: 0.35em; vertical-align: middle; margin-left: 0.5rem\">organization</span>\n",
       "</mark>\n",
       "’s investigation into then-Prime Minister \n",
       "<mark class=\"entity\" style=\"background: #aa9cfc; padding: 0.45em 0.6em; margin: 0 0.25em; line-height: 1; border-radius: 0.35em;\">\n",
       "    Andrej Babis\n",
       "    <span style=\"font-size: 0.8em; font-weight: bold; line-height: 1; border-radius: 0.35em; vertical-align: middle; margin-left: 0.5rem\">person</span>\n",
       "</mark>\n",
       "’ secret offshore dealings, and is now part of a money laundering probe by French authorities.<br>Former Czech prime minister \n",
       "<mark class=\"entity\" style=\"background: #aa9cfc; padding: 0.45em 0.6em; margin: 0 0.25em; line-height: 1; border-radius: 0.35em;\">\n",
       "    Andrej Babis\n",
       "    <span style=\"font-size: 0.8em; font-weight: bold; line-height: 1; border-radius: 0.35em; vertical-align: middle; margin-left: 0.5rem\">person</span>\n",
       "</mark>\n",
       ".<br>High-end real estate agency \n",
       "<mark class=\"entity\" style=\"background: #ddd; padding: 0.45em 0.6em; margin: 0 0.25em; line-height: 1; border-radius: 0.35em;\">\n",
       "    Sotheby’s International Realty\n",
       "    <span style=\"font-size: 0.8em; font-weight: bold; line-height: 1; border-radius: 0.35em; vertical-align: middle; margin-left: 0.5rem\">organization</span>\n",
       "</mark>\n",
       " has listed for sale the sprawling French property of former Czech prime minister \n",
       "<mark class=\"entity\" style=\"background: #aa9cfc; padding: 0.45em 0.6em; margin: 0 0.25em; line-height: 1; border-radius: 0.35em;\">\n",
       "    Andrej Babis\n",
       "    <span style=\"font-size: 0.8em; font-weight: bold; line-height: 1; border-radius: 0.35em; vertical-align: middle; margin-left: 0.5rem\">person</span>\n",
       "</mark>\n",
       " which was first revealed in the \n",
       "<mark class=\"entity\" style=\"background: #ddd; padding: 0.45em 0.6em; margin: 0 0.25em; line-height: 1; border-radius: 0.35em;\">\n",
       "    Pandora Papers\n",
       "    <span style=\"font-size: 0.8em; font-weight: bold; line-height: 1; border-radius: 0.35em; vertical-align: middle; margin-left: 0.5rem\">organization</span>\n",
       "</mark>\n",
       " by the \n",
       "<mark class=\"entity\" style=\"background: #ddd; padding: 0.45em 0.6em; margin: 0 0.25em; line-height: 1; border-radius: 0.35em;\">\n",
       "    International Consortium of Investigative Journalists\n",
       "    <span style=\"font-size: 0.8em; font-weight: bold; line-height: 1; border-radius: 0.35em; vertical-align: middle; margin-left: 0.5rem\">organization</span>\n",
       "</mark>\n",
       ".<br>The $24.7 million villa, located in the town of Mougins, near Cannes, was at the center of the 2021 investigation into the secret offshore dealings of the \n",
       "<mark class=\"entity\" style=\"background: #aa9cfc; padding: 0.45em 0.6em; margin: 0 0.25em; line-height: 1; border-radius: 0.35em;\">\n",
       "    Czech billionaire-turned-politician\n",
       "    <span style=\"font-size: 0.8em; font-weight: bold; line-height: 1; border-radius: 0.35em; vertical-align: middle; margin-left: 0.5rem\">person</span>\n",
       "</mark>\n",
       ", who was one of dozens of \n",
       "<mark class=\"entity\" style=\"background: #aa9cfc; padding: 0.45em 0.6em; margin: 0 0.25em; line-height: 1; border-radius: 0.35em;\">\n",
       "    politicians\n",
       "    <span style=\"font-size: 0.8em; font-weight: bold; line-height: 1; border-radius: 0.35em; vertical-align: middle; margin-left: 0.5rem\">person</span>\n",
       "</mark>\n",
       " and public officials from around the world who used \n",
       "<mark class=\"entity\" style=\"background: #ddd; padding: 0.45em 0.6em; margin: 0 0.25em; line-height: 1; border-radius: 0.35em;\">\n",
       "    shell companies\n",
       "    <span style=\"font-size: 0.8em; font-weight: bold; line-height: 1; border-radius: 0.35em; vertical-align: middle; margin-left: 0.5rem\">organization</span>\n",
       "</mark>\n",
       " in secrecy jurisdictions to shield their assets from public scrutiny.<br>\n",
       "<mark class=\"entity\" style=\"background: #ddd; padding: 0.45em 0.6em; margin: 0 0.25em; line-height: 1; border-radius: 0.35em;\">\n",
       "    ICIJ\n",
       "    <span style=\"font-size: 0.8em; font-weight: bold; line-height: 1; border-radius: 0.35em; vertical-align: middle; margin-left: 0.5rem\">organization</span>\n",
       "</mark>\n",
       " and its media partners found that, in 2009, \n",
       "<mark class=\"entity\" style=\"background: #aa9cfc; padding: 0.45em 0.6em; margin: 0 0.25em; line-height: 1; border-radius: 0.35em;\">\n",
       "    Babis\n",
       "    <span style=\"font-size: 0.8em; font-weight: bold; line-height: 1; border-radius: 0.35em; vertical-align: middle; margin-left: 0.5rem\">person</span>\n",
       "</mark>\n",
       " used a Panama-based \n",
       "<mark class=\"entity\" style=\"background: #ddd; padding: 0.45em 0.6em; margin: 0 0.25em; line-height: 1; border-radius: 0.35em;\">\n",
       "    financial service provider\n",
       "    <span style=\"font-size: 0.8em; font-weight: bold; line-height: 1; border-radius: 0.35em; vertical-align: middle; margin-left: 0.5rem\">organization</span>\n",
       "</mark>\n",
       " to set up shell companies in the British Virgin Islands, Washington, D.C. and Monaco, and move $22 million through the firms to secretly buy the lavish estate named Chateau Bigaud.<br>Following the revelations, \n",
       "<mark class=\"entity\" style=\"background: #ddd; padding: 0.45em 0.6em; margin: 0 0.25em; line-height: 1; border-radius: 0.35em;\">\n",
       "    French authorities\n",
       "    <span style=\"font-size: 0.8em; font-weight: bold; line-height: 1; border-radius: 0.35em; vertical-align: middle; margin-left: 0.5rem\">organization</span>\n",
       "</mark>\n",
       " launched an investigation into \n",
       "<mark class=\"entity\" style=\"background: #aa9cfc; padding: 0.45em 0.6em; margin: 0 0.25em; line-height: 1; border-radius: 0.35em;\">\n",
       "    Babis\n",
       "    <span style=\"font-size: 0.8em; font-weight: bold; line-height: 1; border-radius: 0.35em; vertical-align: middle; margin-left: 0.5rem\">person</span>\n",
       "</mark>\n",
       "’ acquisition of the property, as part of a probe into allegations of money laundering, \n",
       "<mark class=\"entity\" style=\"background: #ddd; padding: 0.45em 0.6em; margin: 0 0.25em; line-height: 1; border-radius: 0.35em;\">\n",
       "    Le Monde\n",
       "    <span style=\"font-size: 0.8em; font-weight: bold; line-height: 1; border-radius: 0.35em; vertical-align: middle; margin-left: 0.5rem\">organization</span>\n",
       "</mark>\n",
       " reported. The investigation is ongoing.<br>\n",
       "<mark class=\"entity\" style=\"background: #aa9cfc; padding: 0.45em 0.6em; margin: 0 0.25em; line-height: 1; border-radius: 0.35em;\">\n",
       "    Babis\n",
       "    <span style=\"font-size: 0.8em; font-weight: bold; line-height: 1; border-radius: 0.35em; vertical-align: middle; margin-left: 0.5rem\">person</span>\n",
       "</mark>\n",
       ", a businessman who made his fortune running the \n",
       "<mark class=\"entity\" style=\"background: #ddd; padding: 0.45em 0.6em; margin: 0 0.25em; line-height: 1; border-radius: 0.35em;\">\n",
       "    Agrofert\n",
       "    <span style=\"font-size: 0.8em; font-weight: bold; line-height: 1; border-radius: 0.35em; vertical-align: middle; margin-left: 0.5rem\">organization</span>\n",
       "</mark>\n",
       " conglomerate, bought the property before he founded a centrist political movement called \n",
       "<mark class=\"entity\" style=\"background: #ddd; padding: 0.45em 0.6em; margin: 0 0.25em; line-height: 1; border-radius: 0.35em;\">\n",
       "    ANO\n",
       "    <span style=\"font-size: 0.8em; font-weight: bold; line-height: 1; border-radius: 0.35em; vertical-align: middle; margin-left: 0.5rem\">organization</span>\n",
       "</mark>\n",
       ", Czech for “Yes” and an acronym that translates as “Action of Dissatisfied Citizens.”<br>However, asset declaration forms obtained by \n",
       "<mark class=\"entity\" style=\"background: #ddd; padding: 0.45em 0.6em; margin: 0 0.25em; line-height: 1; border-radius: 0.35em;\">\n",
       "    Investigace.cz\n",
       "    <span style=\"font-size: 0.8em; font-weight: bold; line-height: 1; border-radius: 0.35em; vertical-align: middle; margin-left: 0.5rem\">organization</span>\n",
       "</mark>\n",
       ", \n",
       "<mark class=\"entity\" style=\"background: #ddd; padding: 0.45em 0.6em; margin: 0 0.25em; line-height: 1; border-radius: 0.35em;\">\n",
       "    ICIJ\n",
       "    <span style=\"font-size: 0.8em; font-weight: bold; line-height: 1; border-radius: 0.35em; vertical-align: middle; margin-left: 0.5rem\">organization</span>\n",
       "</mark>\n",
       "’s Czech media partner, showed that, at the time he was \n",
       "<mark class=\"entity\" style=\"background: #ddd; padding: 0.45em 0.6em; margin: 0 0.25em; line-height: 1; border-radius: 0.35em;\">\n",
       "    Czech Republic\n",
       "    <span style=\"font-size: 0.8em; font-weight: bold; line-height: 1; border-radius: 0.35em; vertical-align: middle; margin-left: 0.5rem\">organization</span>\n",
       "</mark>\n",
       "’s prime minister, neither the \n",
       "<mark class=\"entity\" style=\"background: #ddd; padding: 0.45em 0.6em; margin: 0 0.25em; line-height: 1; border-radius: 0.35em;\">\n",
       "    chateau property\n",
       "    <span style=\"font-size: 0.8em; font-weight: bold; line-height: 1; border-radius: 0.35em; vertical-align: middle; margin-left: 0.5rem\">organization</span>\n",
       "</mark>\n",
       " nor the \n",
       "<mark class=\"entity\" style=\"background: #ddd; padding: 0.45em 0.6em; margin: 0 0.25em; line-height: 1; border-radius: 0.35em;\">\n",
       "    companies\n",
       "    <span style=\"font-size: 0.8em; font-weight: bold; line-height: 1; border-radius: 0.35em; vertical-align: middle; margin-left: 0.5rem\">organization</span>\n",
       "</mark>\n",
       " involved in its ownership appeared in documents that he had filed, as required by Czech law, since his entry into politics.<br>\n",
       "<mark class=\"entity\" style=\"background: #aa9cfc; padding: 0.45em 0.6em; margin: 0 0.25em; line-height: 1; border-radius: 0.35em;\">\n",
       "    Babis\n",
       "    <span style=\"font-size: 0.8em; font-weight: bold; line-height: 1; border-radius: 0.35em; vertical-align: middle; margin-left: 0.5rem\">person</span>\n",
       "</mark>\n",
       ", who didn’t respond to \n",
       "<mark class=\"entity\" style=\"background: #ddd; padding: 0.45em 0.6em; margin: 0 0.25em; line-height: 1; border-radius: 0.35em;\">\n",
       "    ICIJ\n",
       "    <span style=\"font-size: 0.8em; font-weight: bold; line-height: 1; border-radius: 0.35em; vertical-align: middle; margin-left: 0.5rem\">organization</span>\n",
       "</mark>\n",
       "’s questions on the property deal, has publicly denied wrongdoing and said he did “nothing illegal or wrong.”<br>A screenshot of the \n",
       "<mark class=\"entity\" style=\"background: #ddd; padding: 0.45em 0.6em; margin: 0 0.25em; line-height: 1; border-radius: 0.35em;\">\n",
       "    Sothebys\n",
       "    <span style=\"font-size: 0.8em; font-weight: bold; line-height: 1; border-radius: 0.35em; vertical-align: middle; margin-left: 0.5rem\">organization</span>\n",
       "</mark>\n",
       " website, that describes Chateau Bigaud as “magnificent and exclusive.”<br>The website of Sotheby’s \n",
       "<mark class=\"entity\" style=\"background: #ddd; padding: 0.45em 0.6em; margin: 0 0.25em; line-height: 1; border-radius: 0.35em;\">\n",
       "    International Realty\n",
       "    <span style=\"font-size: 0.8em; font-weight: bold; line-height: 1; border-radius: 0.35em; vertical-align: middle; margin-left: 0.5rem\">organization</span>\n",
       "</mark>\n",
       " for the first time shows detailed photos of the property which was built in 2008 and comprises two pools, a tennis court, a wine cellar and a grotto.<br>A \n",
       "<mark class=\"entity\" style=\"background: #aa9cfc; padding: 0.45em 0.6em; margin: 0 0.25em; line-height: 1; border-radius: 0.35em;\">\n",
       "    spokeswoman\n",
       "    <span style=\"font-size: 0.8em; font-weight: bold; line-height: 1; border-radius: 0.35em; vertical-align: middle; margin-left: 0.5rem\">person</span>\n",
       "</mark>\n",
       " for the agency’s Cannes office declined to provide details on the \n",
       "<mark class=\"entity\" style=\"background: #aa9cfc; padding: 0.45em 0.6em; margin: 0 0.25em; line-height: 1; border-radius: 0.35em;\">\n",
       "    seller\n",
       "    <span style=\"font-size: 0.8em; font-weight: bold; line-height: 1; border-radius: 0.35em; vertical-align: middle; margin-left: 0.5rem\">person</span>\n",
       "</mark>\n",
       ", citing client confidentiality reasons. She told \n",
       "<mark class=\"entity\" style=\"background: #ddd; padding: 0.45em 0.6em; margin: 0 0.25em; line-height: 1; border-radius: 0.35em;\">\n",
       "    ICIJ\n",
       "    <span style=\"font-size: 0.8em; font-weight: bold; line-height: 1; border-radius: 0.35em; vertical-align: middle; margin-left: 0.5rem\">organization</span>\n",
       "</mark>\n",
       " that the property has belonged to the same \n",
       "<mark class=\"entity\" style=\"background: #aa9cfc; padding: 0.45em 0.6em; margin: 0 0.25em; line-height: 1; border-radius: 0.35em;\">\n",
       "    owner\n",
       "    <span style=\"font-size: 0.8em; font-weight: bold; line-height: 1; border-radius: 0.35em; vertical-align: middle; margin-left: 0.5rem\">person</span>\n",
       "</mark>\n",
       " for more than 10 years and was used as a “secondary home.” Some \n",
       "<mark class=\"entity\" style=\"background: #aa9cfc; padding: 0.45em 0.6em; margin: 0 0.25em; line-height: 1; border-radius: 0.35em;\">\n",
       "    potential buyers\n",
       "    <span style=\"font-size: 0.8em; font-weight: bold; line-height: 1; border-radius: 0.35em; vertical-align: middle; margin-left: 0.5rem\">person</span>\n",
       "</mark>\n",
       " have visited it but “nothing serious for the moment,” it’s still on sale, the spokeswoman said.<br>\n",
       "<mark class=\"entity\" style=\"background: #aa9cfc; padding: 0.45em 0.6em; margin: 0 0.25em; line-height: 1; border-radius: 0.35em;\">\n",
       "    Babis\n",
       "    <span style=\"font-size: 0.8em; font-weight: bold; line-height: 1; border-radius: 0.35em; vertical-align: middle; margin-left: 0.5rem\">person</span>\n",
       "</mark>\n",
       "’ ownership and purchase of the property in Southern France was in sharp contrast to his cultivated image as the politician who vowed to fight unemployment and corruption and increase \n",
       "<mark class=\"entity\" style=\"background: #ddd; padding: 0.45em 0.6em; margin: 0 0.25em; line-height: 1; border-radius: 0.35em;\">\n",
       "    government\n",
       "    <span style=\"font-size: 0.8em; font-weight: bold; line-height: 1; border-radius: 0.35em; vertical-align: middle; margin-left: 0.5rem\">organization</span>\n",
       "</mark>\n",
       " transparency and tax revenues.<br>Experts interviewed by \n",
       "<mark class=\"entity\" style=\"background: #ddd; padding: 0.45em 0.6em; margin: 0 0.25em; line-height: 1; border-radius: 0.35em;\">\n",
       "    ICIJ\n",
       "    <span style=\"font-size: 0.8em; font-weight: bold; line-height: 1; border-radius: 0.35em; vertical-align: middle; margin-left: 0.5rem\">organization</span>\n",
       "</mark>\n",
       " in 2021 said the offshore arrangement used by \n",
       "<mark class=\"entity\" style=\"background: #aa9cfc; padding: 0.45em 0.6em; margin: 0 0.25em; line-height: 1; border-radius: 0.35em;\">\n",
       "    Babis\n",
       "    <span style=\"font-size: 0.8em; font-weight: bold; line-height: 1; border-radius: 0.35em; vertical-align: middle; margin-left: 0.5rem\">person</span>\n",
       "</mark>\n",
       " to buy the chateau could have reduced his tax bill while hiding his ownership of the property from the public.<br>Days after \n",
       "<mark class=\"entity\" style=\"background: #ddd; padding: 0.45em 0.6em; margin: 0 0.25em; line-height: 1; border-radius: 0.35em;\">\n",
       "    ICIJ\n",
       "    <span style=\"font-size: 0.8em; font-weight: bold; line-height: 1; border-radius: 0.35em; vertical-align: middle; margin-left: 0.5rem\">organization</span>\n",
       "</mark>\n",
       " revealed \n",
       "<mark class=\"entity\" style=\"background: #aa9cfc; padding: 0.45em 0.6em; margin: 0 0.25em; line-height: 1; border-radius: 0.35em;\">\n",
       "    Babis\n",
       "    <span style=\"font-size: 0.8em; font-weight: bold; line-height: 1; border-radius: 0.35em; vertical-align: middle; margin-left: 0.5rem\">person</span>\n",
       "</mark>\n",
       "’ secret offshore deals in October 2021, his \n",
       "<mark class=\"entity\" style=\"background: #ddd; padding: 0.45em 0.6em; margin: 0 0.25em; line-height: 1; border-radius: 0.35em;\">\n",
       "    ANO\n",
       "    <span style=\"font-size: 0.8em; font-weight: bold; line-height: 1; border-radius: 0.35em; vertical-align: middle; margin-left: 0.5rem\">organization</span>\n",
       "</mark>\n",
       " party lost the country’s parliamentary election. Last year, he unsuccessfully ran for president.<br>\n",
       "<mark class=\"entity\" style=\"background: #aa9cfc; padding: 0.45em 0.6em; margin: 0 0.25em; line-height: 1; border-radius: 0.35em;\">\n",
       "    Babis\n",
       "    <span style=\"font-size: 0.8em; font-weight: bold; line-height: 1; border-radius: 0.35em; vertical-align: middle; margin-left: 0.5rem\">person</span>\n",
       "</mark>\n",
       " recently co-founded the far-right \n",
       "<mark class=\"entity\" style=\"background: #ddd; padding: 0.45em 0.6em; margin: 0 0.25em; line-height: 1; border-radius: 0.35em;\">\n",
       "    Patriots for Europe\n",
       "    <span style=\"font-size: 0.8em; font-weight: bold; line-height: 1; border-radius: 0.35em; vertical-align: middle; margin-left: 0.5rem\">organization</span>\n",
       "</mark>\n",
       " group in the \n",
       "<mark class=\"entity\" style=\"background: #ddd; padding: 0.45em 0.6em; margin: 0 0.25em; line-height: 1; border-radius: 0.35em;\">\n",
       "    European Parliament\n",
       "    <span style=\"font-size: 0.8em; font-weight: bold; line-height: 1; border-radius: 0.35em; vertical-align: middle; margin-left: 0.5rem\">organization</span>\n",
       "</mark>\n",
       " alongside \n",
       "<mark class=\"entity\" style=\"background: #aa9cfc; padding: 0.45em 0.6em; margin: 0 0.25em; line-height: 1; border-radius: 0.35em;\">\n",
       "    Hungarian Prime Minister\n",
       "    <span style=\"font-size: 0.8em; font-weight: bold; line-height: 1; border-radius: 0.35em; vertical-align: middle; margin-left: 0.5rem\">person</span>\n",
       "</mark>\n",
       " \n",
       "<mark class=\"entity\" style=\"background: #aa9cfc; padding: 0.45em 0.6em; margin: 0 0.25em; line-height: 1; border-radius: 0.35em;\">\n",
       "    Victor Orbán\n",
       "    <span style=\"font-size: 0.8em; font-weight: bold; line-height: 1; border-radius: 0.35em; vertical-align: middle; margin-left: 0.5rem\">person</span>\n",
       "</mark>\n",
       " and \n",
       "<mark class=\"entity\" style=\"background: #ddd; padding: 0.45em 0.6em; margin: 0 0.25em; line-height: 1; border-radius: 0.35em;\">\n",
       "    Austria’s Freedom Party\n",
       "    <span style=\"font-size: 0.8em; font-weight: bold; line-height: 1; border-radius: 0.35em; vertical-align: middle; margin-left: 0.5rem\">organization</span>\n",
       "</mark>\n",
       " leader \n",
       "<mark class=\"entity\" style=\"background: #aa9cfc; padding: 0.45em 0.6em; margin: 0 0.25em; line-height: 1; border-radius: 0.35em;\">\n",
       "    Herbert Kickl\n",
       "    <span style=\"font-size: 0.8em; font-weight: bold; line-height: 1; border-radius: 0.35em; vertical-align: middle; margin-left: 0.5rem\">person</span>\n",
       "</mark>\n",
       ".</div></span>"
      ],
      "text/plain": [
       "<IPython.core.display.HTML object>"
      ]
     },
     "metadata": {},
     "output_type": "display_data"
    }
   ],
   "source": [
    "doc = nlp(docs[0])\n",
    "displacy.render(doc, style=\"ent\")"
   ]
  },
  {
   "cell_type": "markdown",
   "id": "b86e2e37-409c-4e61-9752-8f4622a324d1",
   "metadata": {
    "jp-MarkdownHeadingCollapsed": true
   },
   "source": [
    "## using a dbpedia_trie as input for the zshot entity linker"
   ]
  },
  {
   "cell_type": "code",
   "execution_count": 12,
   "id": "d005c3ff-d253-41e1-ad94-8ec05d94f972",
   "metadata": {
    "execution": {
     "iopub.execute_input": "2024-08-17T20:26:47.057412Z",
     "iopub.status.busy": "2024-08-17T20:26:47.054184Z",
     "iopub.status.idle": "2024-08-17T20:27:56.446664Z",
     "shell.execute_reply": "2024-08-17T20:27:56.445638Z",
     "shell.execute_reply.started": "2024-08-17T20:26:47.057003Z"
    }
   },
   "outputs": [
    {
     "name": "stderr",
     "output_type": "stream",
     "text": [
      "/home/donbr/erkg-tutorials/venv/lib/python3.12/site-packages/zshot/utils/displacy/templates.py:31: SyntaxWarning: invalid escape sequence '\\w'\n",
      "  TPL_SCRIPT = \"\"\"\n"
     ]
    },
    {
     "data": {
      "application/vnd.jupyter.widget-view+json": {
       "model_id": "6916e7d4c09a497a9d8a20d2c55b0107",
       "version_major": 2,
       "version_minor": 0
      },
      "text/plain": [
       "dbpedia_trie.pkl:   0%|          | 0.00/274M [00:00<?, ?B/s]"
      ]
     },
     "metadata": {},
     "output_type": "display_data"
    }
   ],
   "source": [
    "import spacy\n",
    "import zshot\n",
    "from zshot import PipelineConfig, displacy\n",
    "from zshot.linker import LinkerRegen\n",
    "from zshot.linker.linker_regen.utils import load_dbpedia_trie, load_wikipedia_trie\n",
    "from zshot.mentions_extractor import MentionsExtractorSpacy\n",
    "from zshot.utils.mappings import spans_to_dbpedia, spans_to_wikipedia\n",
    "\n",
    "dbpedia_trie = load_dbpedia_trie()"
   ]
  },
  {
   "cell_type": "code",
   "execution_count": 13,
   "id": "bafc380a-8580-40c4-948a-5ffca506e027",
   "metadata": {},
   "outputs": [
    {
     "data": {
      "text/plain": [
       "<zshot.zshot.Zshot at 0x7f4341727fb0>"
      ]
     },
     "execution_count": 13,
     "metadata": {},
     "output_type": "execute_result"
    }
   ],
   "source": [
    "nlp_dbpedia = spacy.load(\"en_core_web_md\")\n",
    "nlp_config = PipelineConfig(\n",
    "    mentions_extractor=MentionsExtractorSpacy(), linker=LinkerRegen(trie=dbpedia_trie)\n",
    ")\n",
    "nlp_dbpedia.add_pipe(\"zshot\", config=nlp_config, last=True)"
   ]
  },
  {
   "cell_type": "code",
   "execution_count": 14,
   "id": "6ce491c9-b4ab-40b4-8dc8-bc74af98f05e",
   "metadata": {
    "execution": {
     "iopub.execute_input": "2024-08-17T20:37:10.749880Z",
     "iopub.status.busy": "2024-08-17T20:37:10.748233Z",
     "iopub.status.idle": "2024-08-17T20:39:13.249406Z",
     "shell.execute_reply": "2024-08-17T20:39:13.248324Z",
     "shell.execute_reply.started": "2024-08-17T20:37:10.749828Z"
    }
   },
   "outputs": [
    {
     "data": {
      "application/vnd.jupyter.widget-view+json": {
       "model_id": "cb38136263c040b18e6686d76f820268",
       "version_major": 2,
       "version_minor": 0
      },
      "text/plain": [
       "config.json:   0%|          | 0.00/1.50k [00:00<?, ?B/s]"
      ]
     },
     "metadata": {},
     "output_type": "display_data"
    },
    {
     "data": {
      "application/vnd.jupyter.widget-view+json": {
       "model_id": "272fb26327404b358754d910cd01c83b",
       "version_major": 2,
       "version_minor": 0
      },
      "text/plain": [
       "model.safetensors:   0%|          | 0.00/2.95G [00:00<?, ?B/s]"
      ]
     },
     "metadata": {},
     "output_type": "display_data"
    },
    {
     "data": {
      "application/vnd.jupyter.widget-view+json": {
       "model_id": "75738e73f6e44895a719949460a55a3e",
       "version_major": 2,
       "version_minor": 0
      },
      "text/plain": [
       "tokenizer_config.json:   0%|          | 0.00/2.37k [00:00<?, ?B/s]"
      ]
     },
     "metadata": {},
     "output_type": "display_data"
    },
    {
     "data": {
      "application/vnd.jupyter.widget-view+json": {
       "model_id": "73eba24f9369419b825f5862b239afd4",
       "version_major": 2,
       "version_minor": 0
      },
      "text/plain": [
       "tokenizer.json:   0%|          | 0.00/2.42M [00:00<?, ?B/s]"
      ]
     },
     "metadata": {},
     "output_type": "display_data"
    },
    {
     "data": {
      "application/vnd.jupyter.widget-view+json": {
       "model_id": "f6f8209a68aa414b917649ee8c3dfa72",
       "version_major": 2,
       "version_minor": 0
      },
      "text/plain": [
       "special_tokens_map.json:   0%|          | 0.00/147 [00:00<?, ?B/s]"
      ]
     },
     "metadata": {},
     "output_type": "display_data"
    },
    {
     "name": "stderr",
     "output_type": "stream",
     "text": [
      "/home/donbr/erkg-tutorials/venv/lib/python3.12/site-packages/torch/nn/modules/module.py:1553: UserWarning: Implicit dimension choice for softmax has been deprecated. Change the call to include dim=X as an argument.\n",
      "  return self._call_impl(*args, **kwargs)\n"
     ]
    },
    {
     "data": {
      "text/html": [
       "<span class=\"tex2jax_ignore\"><div class=\"entities\" style=\"line-height: 2.5; direction: ltr\">CH2O2 is a chemical compound similar to \n",
       "<mark class=\"entity\" style=\"background: #b19673; padding: 0.45em 0.6em; margin: 0 0.25em; line-height: 1; border-radius: 0.35em;\">\n",
       "    Acetamide\n",
       "    <span style=\"font-size: 0.8em; font-weight: bold; line-height: 1; border-radius: 0.35em; vertical-align: middle; margin-left: 0.5rem\">Acetamide</span>\n",
       "</mark>\n",
       " used in \n",
       "<mark class=\"entity\" style=\"background: #8ce36b; padding: 0.45em 0.6em; margin: 0 0.25em; line-height: 1; border-radius: 0.35em;\">\n",
       "    International Business Machines Corporation\n",
       "    <span style=\"font-size: 0.8em; font-weight: bold; line-height: 1; border-radius: 0.35em; vertical-align: middle; margin-left: 0.5rem\">IBM</span>\n",
       "</mark>\n",
       " (\n",
       "<mark class=\"entity\" style=\"background: #8ce36b; padding: 0.45em 0.6em; margin: 0 0.25em; line-height: 1; border-radius: 0.35em;\">\n",
       "    IBM\n",
       "    <span style=\"font-size: 0.8em; font-weight: bold; line-height: 1; border-radius: 0.35em; vertical-align: middle; margin-left: 0.5rem\">IBM</span>\n",
       "</mark>\n",
       ").</div></span>"
      ],
      "text/plain": [
       "<IPython.core.display.HTML object>"
      ]
     },
     "metadata": {},
     "output_type": "display_data"
    },
    {
     "data": {
      "application/vnd.jupyter.widget-view+json": {
       "model_id": "7a8feee996c247dc83d2ae905fee7e70",
       "version_major": 2,
       "version_minor": 0
      },
      "text/plain": [
       "dbpedia_map_id.json:   0%|          | 0.00/987M [00:00<?, ?B/s]"
      ]
     },
     "metadata": {},
     "output_type": "display_data"
    },
    {
     "name": "stdout",
     "output_type": "stream",
     "text": [
      "[(Acetamide, 'http://dbpedia.org/resource/Acetamide'), (International Business Machines Corporation, 'http://dbpedia.org/resource/IBM'), (IBM, 'http://dbpedia.org/resource/IBM')]\n"
     ]
    }
   ],
   "source": [
    "doc = nlp_dbpedia(\n",
    "    \"CH2O2 is a chemical compound similar to Acetamide used in International Business \"\n",
    "    \"Machines Corporation (IBM).\"\n",
    ")\n",
    "displacy.render(doc, style=\"ent\")\n",
    "print(list(zip(doc.ents, spans_to_dbpedia(doc._.spans))))"
   ]
  },
  {
   "cell_type": "code",
   "execution_count": 15,
   "id": "3a75156a-c3c3-4f72-9f0b-c89591d85f33",
   "metadata": {
    "execution": {
     "iopub.execute_input": "2024-08-17T20:50:04.698631Z",
     "iopub.status.busy": "2024-08-17T20:50:04.697857Z",
     "iopub.status.idle": "2024-08-17T20:50:04.723447Z",
     "shell.execute_reply": "2024-08-17T20:50:04.722324Z",
     "shell.execute_reply.started": "2024-08-17T20:50:04.698589Z"
    }
   },
   "outputs": [
    {
     "data": {
      "text/plain": [
       "Former Czech leader’s secret French estate, revealed in Pandora Papers, listed for sale.\n",
       "The luxury Riviera property featured in ICIJ’s investigation into then-Prime Minister Andrej Babis’ secret offshore dealings, and is now part of a money laundering probe by French"
      ]
     },
     "execution_count": 15,
     "metadata": {},
     "output_type": "execute_result"
    }
   ],
   "source": [
    "docs[0][:50]"
   ]
  },
  {
   "cell_type": "code",
   "execution_count": 16,
   "id": "ebbaa9ca-d029-4ede-b5e5-5119439168cf",
   "metadata": {
    "execution": {
     "iopub.execute_input": "2024-08-17T20:51:11.456144Z",
     "iopub.status.busy": "2024-08-17T20:51:11.454400Z",
     "iopub.status.idle": "2024-08-17T20:51:48.594744Z",
     "shell.execute_reply": "2024-08-17T20:51:48.594289Z",
     "shell.execute_reply.started": "2024-08-17T20:51:11.456080Z"
    }
   },
   "outputs": [],
   "source": [
    "doc = nlp_dbpedia(docs[0][:100].text)"
   ]
  },
  {
   "cell_type": "code",
   "execution_count": 17,
   "id": "24053d3e-6c41-4f19-a552-18769d977e40",
   "metadata": {
    "execution": {
     "iopub.execute_input": "2024-08-17T20:51:50.655324Z",
     "iopub.status.busy": "2024-08-17T20:51:50.653791Z",
     "iopub.status.idle": "2024-08-17T20:51:50.671711Z",
     "shell.execute_reply": "2024-08-17T20:51:50.670866Z",
     "shell.execute_reply.started": "2024-08-17T20:51:50.655264Z"
    },
    "scrolled": true
   },
   "outputs": [
    {
     "data": {
      "text/html": [
       "<span class=\"tex2jax_ignore\"><div class=\"entities\" style=\"line-height: 2.5; direction: ltr\">Former \n",
       "<mark class=\"entity\" style=\"background: #99e872; padding: 0.45em 0.6em; margin: 0 0.25em; line-height: 1; border-radius: 0.35em;\">\n",
       "    Czech\n",
       "    <span style=\"font-size: 0.8em; font-weight: bold; line-height: 1; border-radius: 0.35em; vertical-align: middle; margin-left: 0.5rem\">Czech Republic</span>\n",
       "</mark>\n",
       " leader’s secret \n",
       "<mark class=\"entity\" style=\"background: #6e8466; padding: 0.45em 0.6em; margin: 0 0.25em; line-height: 1; border-radius: 0.35em;\">\n",
       "    French\n",
       "    <span style=\"font-size: 0.8em; font-weight: bold; line-height: 1; border-radius: 0.35em; vertical-align: middle; margin-left: 0.5rem\">France</span>\n",
       "</mark>\n",
       " estate, revealed in \n",
       "<mark class=\"entity\" style=\"background: #78a964; padding: 0.45em 0.6em; margin: 0 0.25em; line-height: 1; border-radius: 0.35em;\">\n",
       "    Pandora Papers\n",
       "    <span style=\"font-size: 0.8em; font-weight: bold; line-height: 1; border-radius: 0.35em; vertical-align: middle; margin-left: 0.5rem\">The Panama Papers</span>\n",
       "</mark>\n",
       ", listed for sale.<br>The luxury \n",
       "<mark class=\"entity\" style=\"background: #ef806f; padding: 0.45em 0.6em; margin: 0 0.25em; line-height: 1; border-radius: 0.35em;\">\n",
       "    Riviera\n",
       "    <span style=\"font-size: 0.8em; font-weight: bold; line-height: 1; border-radius: 0.35em; vertical-align: middle; margin-left: 0.5rem\">French Riviera</span>\n",
       "</mark>\n",
       " property featured in \n",
       "<mark class=\"entity\" style=\"background: #d9a966; padding: 0.45em 0.6em; margin: 0 0.25em; line-height: 1; border-radius: 0.35em;\">\n",
       "    ICIJ\n",
       "    <span style=\"font-size: 0.8em; font-weight: bold; line-height: 1; border-radius: 0.35em; vertical-align: middle; margin-left: 0.5rem\">International Consortium of Investigative Journalists</span>\n",
       "</mark>\n",
       "’s investigation into then-Prime Minister \n",
       "<mark class=\"entity\" style=\"background: #7ce86b; padding: 0.45em 0.6em; margin: 0 0.25em; line-height: 1; border-radius: 0.35em;\">\n",
       "    Andrej Babis\n",
       "    <span style=\"font-size: 0.8em; font-weight: bold; line-height: 1; border-radius: 0.35em; vertical-align: middle; margin-left: 0.5rem\">Andrej Babi</span>\n",
       "</mark>\n",
       "’ secret offshore dealings, and is now part of a money laundering probe by \n",
       "<mark class=\"entity\" style=\"background: #6e8466; padding: 0.45em 0.6em; margin: 0 0.25em; line-height: 1; border-radius: 0.35em;\">\n",
       "    French\n",
       "    <span style=\"font-size: 0.8em; font-weight: bold; line-height: 1; border-radius: 0.35em; vertical-align: middle; margin-left: 0.5rem\">France</span>\n",
       "</mark>\n",
       " authorities.<br>Former \n",
       "<mark class=\"entity\" style=\"background: #99e872; padding: 0.45em 0.6em; margin: 0 0.25em; line-height: 1; border-radius: 0.35em;\">\n",
       "    Czech\n",
       "    <span style=\"font-size: 0.8em; font-weight: bold; line-height: 1; border-radius: 0.35em; vertical-align: middle; margin-left: 0.5rem\">Czech Republic</span>\n",
       "</mark>\n",
       " prime minister \n",
       "<mark class=\"entity\" style=\"background: #7ce86b; padding: 0.45em 0.6em; margin: 0 0.25em; line-height: 1; border-radius: 0.35em;\">\n",
       "    Andrej Babis\n",
       "    <span style=\"font-size: 0.8em; font-weight: bold; line-height: 1; border-radius: 0.35em; vertical-align: middle; margin-left: 0.5rem\">Andrej Babi</span>\n",
       "</mark>\n",
       ".<br>High-end real estate agency \n",
       "<mark class=\"entity\" style=\"background: #c17564; padding: 0.45em 0.6em; margin: 0 0.25em; line-height: 1; border-radius: 0.35em;\">\n",
       "    Sotheby’s International Realty\n",
       "    <span style=\"font-size: 0.8em; font-weight: bold; line-height: 1; border-radius: 0.35em; vertical-align: middle; margin-left: 0.5rem\">Sotheby's International Realty</span>\n",
       "</mark>\n",
       " has listed for sale the sprawling \n",
       "<mark class=\"entity\" style=\"background: #6e8466; padding: 0.45em 0.6em; margin: 0 0.25em; line-height: 1; border-radius: 0.35em;\">\n",
       "    French\n",
       "    <span style=\"font-size: 0.8em; font-weight: bold; line-height: 1; border-radius: 0.35em; vertical-align: middle; margin-left: 0.5rem\">France</span>\n",
       "</mark>\n",
       " property of former \n",
       "<mark class=\"entity\" style=\"background: #99e872; padding: 0.45em 0.6em; margin: 0 0.25em; line-height: 1; border-radius: 0.35em;\">\n",
       "    Czech\n",
       "    <span style=\"font-size: 0.8em; font-weight: bold; line-height: 1; border-radius: 0.35em; vertical-align: middle; margin-left: 0.5rem\">Czech Republic</span>\n",
       "</mark>\n",
       " prime minister \n",
       "<mark class=\"entity\" style=\"background: #7ce86b; padding: 0.45em 0.6em; margin: 0 0.25em; line-height: 1; border-radius: 0.35em;\">\n",
       "    Andrej Babis\n",
       "    <span style=\"font-size: 0.8em; font-weight: bold; line-height: 1; border-radius: 0.35em; vertical-align: middle; margin-left: 0.5rem\">Andrej Babi</span>\n",
       "</mark>\n",
       " which was first revealed in \n",
       "<mark class=\"entity\" style=\"background: #78a964; padding: 0.45em 0.6em; margin: 0 0.25em; line-height: 1; border-radius: 0.35em;\">\n",
       "    the Pandora Papers\n",
       "    <span style=\"font-size: 0.8em; font-weight: bold; line-height: 1; border-radius: 0.35em; vertical-align: middle; margin-left: 0.5rem\">The Panama Papers</span>\n",
       "</mark>\n",
       " by \n",
       "<mark class=\"entity\" style=\"background: #d9a966; padding: 0.45em 0.6em; margin: 0 0.25em; line-height: 1; border-radius: 0.35em;\">\n",
       "    the International Consortium of Investigative\n",
       "    <span style=\"font-size: 0.8em; font-weight: bold; line-height: 1; border-radius: 0.35em; vertical-align: middle; margin-left: 0.5rem\">International Consortium of Investigative Journalists</span>\n",
       "</mark>\n",
       "</div></span>"
      ],
      "text/plain": [
       "<IPython.core.display.HTML object>"
      ]
     },
     "metadata": {},
     "output_type": "display_data"
    }
   ],
   "source": [
    "displacy.render(doc, style=\"ent\")"
   ]
  },
  {
   "cell_type": "code",
   "execution_count": 18,
   "id": "1c8c2bef-d34f-49fe-9edc-0d22e650af60",
   "metadata": {},
   "outputs": [
    {
     "ename": "",
     "evalue": "",
     "output_type": "error",
     "traceback": [
      "\u001b[1;31mCannot execute code, session has been disposed. Please try restarting the Kernel."
     ]
    },
    {
     "ename": "",
     "evalue": "",
     "output_type": "error",
     "traceback": [
      "\u001b[1;31mCannot execute code, session has been disposed. Please try restarting the Kernel. \n",
      "\u001b[1;31mView Jupyter <a href='command:jupyter.viewOutput'>log</a> for further details."
     ]
    }
   ],
   "source": [
    "doc = nlp_dbpedia(docs[0])"
   ]
  },
  {
   "cell_type": "code",
   "execution_count": 32,
   "id": "2fce347d-50f7-4b61-be7c-01fd1248a241",
   "metadata": {
    "execution": {
     "iopub.execute_input": "2024-08-18T06:13:05.582499Z",
     "iopub.status.busy": "2024-08-18T06:13:05.582081Z",
     "iopub.status.idle": "2024-08-18T06:13:05.590402Z",
     "shell.execute_reply": "2024-08-18T06:13:05.587622Z",
     "shell.execute_reply.started": "2024-08-18T06:13:05.582467Z"
    }
   },
   "outputs": [],
   "source": [
    "e = doc.ents[0]"
   ]
  },
  {
   "cell_type": "code",
   "execution_count": null,
   "id": "2659940c-9faa-4667-a300-3e4914a574b4",
   "metadata": {
    "execution": {
     "iopub.execute_input": "2024-08-18T06:13:44.046796Z",
     "iopub.status.busy": "2024-08-18T06:13:44.044223Z",
     "iopub.status.idle": "2024-08-18T06:13:44.059588Z",
     "shell.execute_reply": "2024-08-18T06:13:44.058802Z",
     "shell.execute_reply.started": "2024-08-18T06:13:44.046728Z"
    }
   },
   "outputs": [],
   "source": [
    "e.label_"
   ]
  },
  {
   "cell_type": "markdown",
   "id": "a91cbebb-b8de-45dd-881f-c5dbb6ee6bd3",
   "metadata": {
    "jp-MarkdownHeadingCollapsed": true
   },
   "source": [
    "## Understanding dbpedia_map"
   ]
  },
  {
   "cell_type": "code",
   "execution_count": 40,
   "id": "327e8ab9-24dc-483b-a8fd-992e27ca666a",
   "metadata": {
    "execution": {
     "iopub.execute_input": "2024-08-18T06:18:10.475936Z",
     "iopub.status.busy": "2024-08-18T06:18:10.475721Z",
     "iopub.status.idle": "2024-08-18T06:18:10.478618Z",
     "shell.execute_reply": "2024-08-18T06:18:10.478115Z",
     "shell.execute_reply.started": "2024-08-18T06:18:10.475919Z"
    }
   },
   "outputs": [],
   "source": [
    "from huggingface_hub import hf_hub_download\n",
    "from zshot.config import MODELS_CACHE_PATH\n"
   ]
  },
  {
   "cell_type": "code",
   "execution_count": 77,
   "id": "f9cea2f2-332f-4a3c-a1cf-09e4ea364809",
   "metadata": {
    "execution": {
     "iopub.execute_input": "2024-09-01T11:28:53.325908Z",
     "iopub.status.busy": "2024-09-01T11:28:53.325064Z",
     "iopub.status.idle": "2024-09-01T11:28:53.834380Z",
     "shell.execute_reply": "2024-09-01T11:28:53.832605Z",
     "shell.execute_reply.started": "2024-09-01T11:28:53.325855Z"
    }
   },
   "outputs": [],
   "source": [
    "REPO_ID = \"ibm/regen-disambiguation\"\n",
    "WIKIPEDIA_MAP = \"wikipedia_map_id.json\"\n",
    "DBPEDIA_MAP = \"dbpedia_map_id.json\"\n",
    "\n",
    "dbpedia_map = hf_hub_download(repo_id=REPO_ID,\n",
    "                              repo_type='model',\n",
    "                              filename=DBPEDIA_MAP,\n",
    "                              cache_dir=MODELS_CACHE_PATH)"
   ]
  },
  {
   "cell_type": "code",
   "execution_count": 45,
   "id": "2e6012e3-2736-48e8-a9a5-1e0922defdca",
   "metadata": {
    "execution": {
     "iopub.execute_input": "2024-08-18T06:18:54.693886Z",
     "iopub.status.busy": "2024-08-18T06:18:54.693546Z",
     "iopub.status.idle": "2024-08-18T06:18:54.697249Z",
     "shell.execute_reply": "2024-08-18T06:18:54.696527Z",
     "shell.execute_reply.started": "2024-08-18T06:18:54.693865Z"
    }
   },
   "outputs": [],
   "source": [
    "import json"
   ]
  },
  {
   "cell_type": "code",
   "execution_count": 46,
   "id": "d659cf0a-ce70-4e20-b9ef-0f3588fc5e92",
   "metadata": {
    "execution": {
     "iopub.execute_input": "2024-08-18T06:18:55.234962Z",
     "iopub.status.busy": "2024-08-18T06:18:55.233886Z",
     "iopub.status.idle": "2024-08-18T06:19:08.062214Z",
     "shell.execute_reply": "2024-08-18T06:19:08.061607Z",
     "shell.execute_reply.started": "2024-08-18T06:18:55.234911Z"
    }
   },
   "outputs": [],
   "source": [
    "    with open(dbpedia_map, \"r\") as f:\n",
    "        dbpedia_map = json.load(f)"
   ]
  },
  {
   "cell_type": "code",
   "execution_count": 50,
   "id": "5fbee4e4-41f2-4354-9add-3017c0de4ff7",
   "metadata": {
    "execution": {
     "iopub.execute_input": "2024-08-18T06:20:58.291100Z",
     "iopub.status.busy": "2024-08-18T06:20:58.290348Z",
     "iopub.status.idle": "2024-08-18T06:20:58.306701Z",
     "shell.execute_reply": "2024-08-18T06:20:58.302100Z",
     "shell.execute_reply.started": "2024-08-18T06:20:58.291046Z"
    }
   },
   "outputs": [],
   "source": [
    "spans = doc._.spans"
   ]
  },
  {
   "cell_type": "code",
   "execution_count": 51,
   "id": "35006b7e-4e6e-4e9d-bc97-6d2caf5a4e02",
   "metadata": {
    "execution": {
     "iopub.execute_input": "2024-08-18T06:21:01.644312Z",
     "iopub.status.busy": "2024-08-18T06:21:01.643383Z",
     "iopub.status.idle": "2024-08-18T06:21:01.663550Z",
     "shell.execute_reply": "2024-08-18T06:21:01.661061Z",
     "shell.execute_reply.started": "2024-08-18T06:21:01.644261Z"
    }
   },
   "outputs": [],
   "source": [
    "links = [dbpedia_map[s.label] for s in spans if s.label in dbpedia_map]\n"
   ]
  },
  {
   "cell_type": "code",
   "execution_count": 54,
   "id": "e4757b5f-cfd9-4a61-8ca4-54ebc6ae7f1f",
   "metadata": {
    "execution": {
     "iopub.execute_input": "2024-08-18T06:23:02.156116Z",
     "iopub.status.busy": "2024-08-18T06:23:02.155039Z",
     "iopub.status.idle": "2024-08-18T06:23:09.441636Z",
     "shell.execute_reply": "2024-08-18T06:23:09.441068Z",
     "shell.execute_reply.started": "2024-08-18T06:23:02.156036Z"
    }
   },
   "outputs": [],
   "source": [
    "extract = {k: v for k,v in dbpedia_map.items() if k in [s.label for s in spans]}"
   ]
  },
  {
   "cell_type": "code",
   "execution_count": null,
   "id": "7945cb0a-ef82-43d2-9b48-3b103f4534b7",
   "metadata": {
    "execution": {
     "iopub.execute_input": "2024-08-18T06:23:11.789323Z",
     "iopub.status.busy": "2024-08-18T06:23:11.786626Z",
     "iopub.status.idle": "2024-08-18T06:23:11.802253Z",
     "shell.execute_reply": "2024-08-18T06:23:11.801416Z",
     "shell.execute_reply.started": "2024-08-18T06:23:11.789244Z"
    }
   },
   "outputs": [],
   "source": [
    "extract"
   ]
  },
  {
   "cell_type": "code",
   "execution_count": null,
   "id": "5b20c1aa-0198-4391-abd9-a8d1f8ec32db",
   "metadata": {
    "execution": {
     "iopub.execute_input": "2024-08-18T06:21:05.473450Z",
     "iopub.status.busy": "2024-08-18T06:21:05.473015Z",
     "iopub.status.idle": "2024-08-18T06:21:05.484483Z",
     "shell.execute_reply": "2024-08-18T06:21:05.483576Z",
     "shell.execute_reply.started": "2024-08-18T06:21:05.473418Z"
    }
   },
   "outputs": [],
   "source": [
    "links"
   ]
  },
  {
   "cell_type": "code",
   "execution_count": 65,
   "id": "3591fe1b-c3ee-4029-b828-b54f3680bf06",
   "metadata": {
    "execution": {
     "iopub.execute_input": "2024-08-18T06:43:30.673630Z",
     "iopub.status.busy": "2024-08-18T06:43:30.669800Z",
     "iopub.status.idle": "2024-08-18T06:43:43.831071Z",
     "shell.execute_reply": "2024-08-18T06:43:43.830088Z",
     "shell.execute_reply.started": "2024-08-18T06:43:30.673548Z"
    },
    "scrolled": true
   },
   "outputs": [],
   "source": [
    "ents = list(zip(doc.ents, spans_to_dbpedia(doc._.spans)))"
   ]
  },
  {
   "cell_type": "code",
   "execution_count": null,
   "id": "29bd3a11-ccb5-44c0-a794-4b3e18c46cc0",
   "metadata": {
    "execution": {
     "iopub.execute_input": "2024-08-18T06:43:51.173331Z",
     "iopub.status.busy": "2024-08-18T06:43:51.172586Z",
     "iopub.status.idle": "2024-08-18T06:43:51.191942Z",
     "shell.execute_reply": "2024-08-18T06:43:51.191495Z",
     "shell.execute_reply.started": "2024-08-18T06:43:51.173267Z"
    }
   },
   "outputs": [],
   "source": [
    "[(ent, ent.label, link) for ent,link in ents]"
   ]
  },
  {
   "cell_type": "code",
   "execution_count": null,
   "id": "d71f530b-5853-41be-bc81-9caef438ef86",
   "metadata": {
    "execution": {
     "iopub.execute_input": "2024-09-01T11:28:49.922900Z",
     "iopub.status.busy": "2024-09-01T11:28:49.919632Z",
     "iopub.status.idle": "2024-09-01T11:28:50.105014Z",
     "shell.execute_reply": "2024-09-01T11:28:50.104570Z",
     "shell.execute_reply.started": "2024-09-01T11:28:49.922837Z"
    },
    "scrolled": true
   },
   "outputs": [],
   "source": [
    "dbpedia_map"
   ]
  },
  {
   "cell_type": "code",
   "execution_count": null,
   "id": "2a8d3246-fd98-4b8c-8412-c3fb9a76a840",
   "metadata": {
    "execution": {
     "iopub.execute_input": "2024-08-18T06:34:09.105906Z",
     "iopub.status.busy": "2024-08-18T06:34:09.105481Z",
     "iopub.status.idle": "2024-08-18T06:34:09.114572Z",
     "shell.execute_reply": "2024-08-18T06:34:09.113625Z",
     "shell.execute_reply.started": "2024-08-18T06:34:09.105873Z"
    }
   },
   "outputs": [],
   "source": [
    "len(dbpedia_trie.trie_dict)"
   ]
  },
  {
   "cell_type": "markdown",
   "id": "a0b76b4e-f951-4538-a3ae-d2478321748e",
   "metadata": {
    "jp-MarkdownHeadingCollapsed": true
   },
   "source": [
    "## Understanding dbpedia_trie_file"
   ]
  },
  {
   "cell_type": "code",
   "execution_count": 57,
   "id": "2cf189c8-c46c-4fac-99a9-dd4c403828a4",
   "metadata": {
    "execution": {
     "iopub.execute_input": "2024-08-18T06:32:48.207376Z",
     "iopub.status.busy": "2024-08-18T06:32:48.206987Z",
     "iopub.status.idle": "2024-08-18T06:32:48.497622Z",
     "shell.execute_reply": "2024-08-18T06:32:48.496741Z",
     "shell.execute_reply.started": "2024-08-18T06:32:48.207351Z"
    }
   },
   "outputs": [],
   "source": [
    "REPO_ID = \"ibm/regen-disambiguation\"\n",
    "WIKIPEDIA_TRIE_FILE_NAME = \"wikipedia_trie.pkl\"\n",
    "DBPEDIA_TRIE_FILE_NAME = \"dbpedia_trie.pkl\"\n",
    "dbpedia_trie_file = hf_hub_download(repo_id=REPO_ID,\n",
    "                                    repo_type='model',\n",
    "                                    filename=DBPEDIA_TRIE_FILE_NAME,\n",
    "                                    cache_dir=MODELS_CACHE_PATH)"
   ]
  },
  {
   "cell_type": "code",
   "execution_count": null,
   "id": "7f106e7a-fa0d-40e3-802a-d6b20024c47b",
   "metadata": {
    "execution": {
     "iopub.execute_input": "2024-08-18T06:32:52.000982Z",
     "iopub.status.busy": "2024-08-18T06:32:52.000046Z",
     "iopub.status.idle": "2024-08-18T06:32:52.018967Z",
     "shell.execute_reply": "2024-08-18T06:32:52.018399Z",
     "shell.execute_reply.started": "2024-08-18T06:32:52.000935Z"
    }
   },
   "outputs": [],
   "source": [
    "dbpedia_trie_file"
   ]
  },
  {
   "cell_type": "code",
   "execution_count": 61,
   "id": "111ee2e2-6f1d-4416-ad89-533dc8809a34",
   "metadata": {
    "execution": {
     "iopub.execute_input": "2024-08-18T06:35:34.032080Z",
     "iopub.status.busy": "2024-08-18T06:35:34.028694Z",
     "iopub.status.idle": "2024-08-18T06:42:04.595551Z",
     "shell.execute_reply": "2024-08-18T06:42:04.594350Z",
     "shell.execute_reply.started": "2024-08-18T06:35:34.031994Z"
    }
   },
   "outputs": [],
   "source": [
    "import pickle\n",
    "\n",
    "with open(dbpedia_trie_file, \"rb\") as f:\n",
    "    dbpedia_trie = pickle.load(f)"
   ]
  },
  {
   "cell_type": "code",
   "execution_count": null,
   "id": "acae67ff-0ff0-498c-a3b2-36b566c23456",
   "metadata": {
    "execution": {
     "iopub.execute_input": "2024-08-18T06:44:15.247095Z",
     "iopub.status.busy": "2024-08-18T06:44:15.246517Z",
     "iopub.status.idle": "2024-08-18T06:44:15.282567Z",
     "shell.execute_reply": "2024-08-18T06:44:15.282133Z",
     "shell.execute_reply.started": "2024-08-18T06:44:15.247046Z"
    },
    "scrolled": true
   },
   "outputs": [],
   "source": [
    "dbpedia_trie.trie_dict.keys()"
   ]
  },
  {
   "cell_type": "code",
   "execution_count": null,
   "id": "12b6e447-45c3-4d8a-a274-eeb7b8ab3592",
   "metadata": {
    "execution": {
     "iopub.execute_input": "2024-09-01T11:34:59.706443Z",
     "iopub.status.busy": "2024-09-01T11:34:59.702797Z",
     "iopub.status.idle": "2024-09-01T11:34:59.734110Z",
     "shell.execute_reply": "2024-09-01T11:34:59.733282Z",
     "shell.execute_reply.started": "2024-09-01T11:34:59.706353Z"
    },
    "scrolled": true
   },
   "outputs": [],
   "source": [
    "dbpedia_trie.trie_dict[11401]"
   ]
  },
  {
   "cell_type": "markdown",
   "id": "e0ecbe9b-507d-42f9-8e36-bf33432664a3",
   "metadata": {},
   "source": [
    "the Trie is built with this code\n",
    "```python\n",
    "self.trie = Trie(\n",
    "    [\n",
    "        self.tokenizer(e.name, return_tensors=\"pt\")['input_ids'][0].tolist()\n",
    "        for e in entities\n",
    "    ]\n",
    ")\n",
    "```"
   ]
  },
  {
   "cell_type": "markdown",
   "id": "f5cf6488-be04-4ee5-aeb4-1aae306cda8d",
   "metadata": {},
   "source": [
    "## making microsoft ann_linker work on demo data\n",
    "I can't install the package, and the package was last updated 4 years ago. I skip."
   ]
  },
  {
   "cell_type": "markdown",
   "id": "0ed1da0d-3ce1-43d5-ad2f-ff7f58b0999c",
   "metadata": {
    "jp-MarkdownHeadingCollapsed": true
   },
   "source": [
    "## Spacy entity linker\n",
    "ref: https://github.com/explosion/projects/blob/v3/tutorials/nel_emerson/notebooks/notebook_video.ipynb"
   ]
  },
  {
   "cell_type": "code",
   "execution_count": null,
   "id": "7a0ab1a8-4740-480b-bb39-5927616187b1",
   "metadata": {
    "execution": {
     "iopub.execute_input": "2024-09-01T14:43:23.319119Z",
     "iopub.status.busy": "2024-09-01T14:43:23.318515Z",
     "iopub.status.idle": "2024-09-01T14:43:40.957655Z",
     "shell.execute_reply": "2024-09-01T14:43:40.957305Z",
     "shell.execute_reply.started": "2024-09-01T14:43:23.319084Z"
    }
   },
   "outputs": [],
   "source": [
    "import spacy\n",
    "nlp = spacy.load(\"en_core_web_md\")\n",
    "text = \"Tennis champion Emerson was expected to win Wimbledon.\"\n",
    "doc = nlp(text)\n",
    "for ent in doc.ents:\n",
    "    print(f\"Named Entity '{ent.text}' with label '{ent.label_}'\")"
   ]
  },
  {
   "cell_type": "code",
   "execution_count": 4,
   "id": "acaf4531-ce99-4d3f-b91d-b44b0d150658",
   "metadata": {
    "execution": {
     "iopub.execute_input": "2024-09-01T14:44:06.976917Z",
     "iopub.status.busy": "2024-09-01T14:44:06.972990Z",
     "iopub.status.idle": "2024-09-01T14:44:06.992893Z",
     "shell.execute_reply": "2024-09-01T14:44:06.991221Z",
     "shell.execute_reply.started": "2024-09-01T14:44:06.974732Z"
    }
   },
   "outputs": [],
   "source": [
    "import csv\n",
    "from pathlib import Path\n",
    "\n",
    "def load_entities():\n",
    "    entities_loc = Path.cwd().parent / \"data\" / \"test-spacy\" / \"entities.csv\"  # distributed alongside this notebook\n",
    "\n",
    "    names = dict()\n",
    "    descriptions = dict()\n",
    "    with entities_loc.open(\"r\", encoding=\"utf8\") as csvfile:\n",
    "        csvreader = csv.reader(csvfile, delimiter=\",\")\n",
    "        for row in csvreader:\n",
    "            qid = row[0]\n",
    "            name = row[1]\n",
    "            desc = row[2]\n",
    "            names[qid] = name\n",
    "            descriptions[qid] = desc\n",
    "    return names, descriptions"
   ]
  },
  {
   "cell_type": "code",
   "execution_count": null,
   "id": "24e5127e-8c8d-4c04-8064-4fdd4060eb04",
   "metadata": {
    "execution": {
     "iopub.execute_input": "2024-09-01T14:44:31.865204Z",
     "iopub.status.busy": "2024-09-01T14:44:31.864292Z",
     "iopub.status.idle": "2024-09-01T14:44:31.878110Z",
     "shell.execute_reply": "2024-09-01T14:44:31.877336Z",
     "shell.execute_reply.started": "2024-09-01T14:44:31.865147Z"
    }
   },
   "outputs": [],
   "source": [
    "name_dict, desc_dict = load_entities()\n",
    "for QID in name_dict.keys():\n",
    "    print(f\"{QID}, name={name_dict[QID]}, desc={desc_dict[QID]}\")"
   ]
  },
  {
   "cell_type": "code",
   "execution_count": 8,
   "id": "c5db2f0d-f6fa-4565-9738-1873d25b9993",
   "metadata": {
    "execution": {
     "iopub.execute_input": "2024-09-01T14:46:59.016544Z",
     "iopub.status.busy": "2024-09-01T14:46:59.014921Z",
     "iopub.status.idle": "2024-09-01T14:46:59.028887Z",
     "shell.execute_reply": "2024-09-01T14:46:59.025897Z",
     "shell.execute_reply.started": "2024-09-01T14:46:59.016498Z"
    }
   },
   "outputs": [],
   "source": [
    "from spacy.kb import InMemoryLookupKB\n",
    "kb = InMemoryLookupKB(vocab=nlp.vocab, entity_vector_length=300)"
   ]
  },
  {
   "cell_type": "code",
   "execution_count": null,
   "id": "14f7d006-9cdb-4874-bd85-7d00b9780f96",
   "metadata": {},
   "outputs": [],
   "source": [
    "# entities.jsonl\n",
    "# entity_id, optional:entity_name, entity_description, corpus_frequency, optional:label\n",
    "# {\"id\":\"a6\",\"name\":\"Statistics\",\"description\":\"Statistics deals with all aspects of data collection, organization, analysis, interpretation, and presentation.\",\"label\":\"SKILL\"}\n",
    "\n",
    "# aliases.jsonl\n",
    "# name, entities, probabilities\n",
    "# {\"alias\": \"ML\", \"entities\": [\"a1\", \"a2\"], \"probabilities\": [0.5, 0.5]}"
   ]
  },
  {
   "cell_type": "code",
   "execution_count": 10,
   "id": "0e508d5a-742b-410e-8300-a646e380d001",
   "metadata": {
    "execution": {
     "iopub.execute_input": "2024-09-01T14:48:52.950544Z",
     "iopub.status.busy": "2024-09-01T14:48:52.949652Z",
     "iopub.status.idle": "2024-09-01T14:48:52.980817Z",
     "shell.execute_reply": "2024-09-01T14:48:52.980370Z",
     "shell.execute_reply.started": "2024-09-01T14:48:52.950497Z"
    }
   },
   "outputs": [],
   "source": [
    "for qid, desc in desc_dict.items():\n",
    "    desc_doc = nlp(desc)\n",
    "    desc_enc = desc_doc.vector\n",
    "    kb.add_entity(entity=qid, entity_vector=desc_enc, freq=342)   # 342 is an arbitrary value here"
   ]
  },
  {
   "cell_type": "code",
   "execution_count": 11,
   "id": "c8296593-2b34-42b3-8fd3-6eee15480fad",
   "metadata": {
    "execution": {
     "iopub.execute_input": "2024-09-01T14:51:13.177845Z",
     "iopub.status.busy": "2024-09-01T14:51:13.177109Z",
     "iopub.status.idle": "2024-09-01T14:51:13.188334Z",
     "shell.execute_reply": "2024-09-01T14:51:13.187300Z",
     "shell.execute_reply.started": "2024-09-01T14:51:13.177792Z"
    }
   },
   "outputs": [],
   "source": [
    "for qid, name in name_dict.items():\n",
    "    kb.add_alias(alias=name, entities=[qid], probabilities=[1])   # 100% prior probability P(entity|alias)"
   ]
  },
  {
   "cell_type": "code",
   "execution_count": null,
   "id": "ffbf03d3-b192-4531-917d-2a4c2e36c9a3",
   "metadata": {
    "execution": {
     "iopub.execute_input": "2024-09-01T14:51:58.413246Z",
     "iopub.status.busy": "2024-09-01T14:51:58.412575Z",
     "iopub.status.idle": "2024-09-01T14:51:58.425129Z",
     "shell.execute_reply": "2024-09-01T14:51:58.424127Z",
     "shell.execute_reply.started": "2024-09-01T14:51:58.413211Z"
    }
   },
   "outputs": [],
   "source": [
    "kb.add_alias(alias=\"Emerson\", entities=name_dict.keys(), probabilities=[0.3, 0.3, 0.3])  # sum([probs]) should be <= 1 !"
   ]
  },
  {
   "cell_type": "code",
   "execution_count": null,
   "id": "fae41866-484f-4964-9494-97010071acfa",
   "metadata": {
    "execution": {
     "iopub.execute_input": "2024-09-01T14:52:08.788140Z",
     "iopub.status.busy": "2024-09-01T14:52:08.787799Z",
     "iopub.status.idle": "2024-09-01T14:52:08.793902Z",
     "shell.execute_reply": "2024-09-01T14:52:08.792961Z",
     "shell.execute_reply.started": "2024-09-01T14:52:08.788118Z"
    }
   },
   "outputs": [],
   "source": [
    "print(f\"Entities in the KB: {kb.get_entity_strings()}\")\n",
    "print(f\"Aliases in the KB: {kb.get_alias_strings()}\")"
   ]
  },
  {
   "cell_type": "code",
   "execution_count": null,
   "id": "70a6b5ee-932a-43f8-870c-c9de79e26bdc",
   "metadata": {
    "execution": {
     "iopub.execute_input": "2024-09-01T14:52:27.552992Z",
     "iopub.status.busy": "2024-09-01T14:52:27.552649Z",
     "iopub.status.idle": "2024-09-01T14:52:27.562686Z",
     "shell.execute_reply": "2024-09-01T14:52:27.560182Z",
     "shell.execute_reply.started": "2024-09-01T14:52:27.552969Z"
    }
   },
   "outputs": [],
   "source": [
    "print(f\"Candidates for 'Roy Stanley Emerson': {[c.entity_ for c in kb.get_alias_candidates('Roy Stanley Emerson')]}\")\n",
    "print(f\"Candidates for 'Emerson': {[c.entity_ for c in kb.get_alias_candidates('Emerson')]}\")\n",
    "print(f\"Candidates for 'Sofie': {[c.entity_ for c in kb.get_alias_candidates('Sofie')]}\")"
   ]
  },
  {
   "cell_type": "code",
   "execution_count": 15,
   "id": "176846b2-b722-4711-8b73-3547affb30b6",
   "metadata": {
    "execution": {
     "iopub.execute_input": "2024-09-01T14:53:04.727982Z",
     "iopub.status.busy": "2024-09-01T14:53:04.727118Z",
     "iopub.status.idle": "2024-09-01T14:53:04.985090Z",
     "shell.execute_reply": "2024-09-01T14:53:04.984706Z",
     "shell.execute_reply.started": "2024-09-01T14:53:04.727949Z"
    }
   },
   "outputs": [],
   "source": [
    "# change the directory and file names to whatever you like\n",
    "import os\n",
    "output_dir = Path.cwd().parent / \"data\" / \"spacy_el_output\"\n",
    "if not os.path.exists(output_dir):\n",
    "    os.mkdir(output_dir) \n",
    "kb.to_disk(output_dir / \"my_kb\")"
   ]
  },
  {
   "cell_type": "code",
   "execution_count": 16,
   "id": "e8e846f8-bc72-4878-bb2d-547e3736791f",
   "metadata": {
    "execution": {
     "iopub.execute_input": "2024-09-01T14:53:13.850712Z",
     "iopub.status.busy": "2024-09-01T14:53:13.849889Z",
     "iopub.status.idle": "2024-09-01T14:53:14.228457Z",
     "shell.execute_reply": "2024-09-01T14:53:14.227979Z",
     "shell.execute_reply.started": "2024-09-01T14:53:13.850672Z"
    }
   },
   "outputs": [],
   "source": [
    "nlp.to_disk(output_dir / \"my_nlp\")"
   ]
  },
  {
   "cell_type": "code",
   "execution_count": 17,
   "id": "1818ebcc-3eeb-44eb-b50b-81bfde7cdf7f",
   "metadata": {
    "execution": {
     "iopub.execute_input": "2024-09-01T14:59:46.606324Z",
     "iopub.status.busy": "2024-09-01T14:59:46.605712Z",
     "iopub.status.idle": "2024-09-01T14:59:46.617744Z",
     "shell.execute_reply": "2024-09-01T14:59:46.611061Z",
     "shell.execute_reply.started": "2024-09-01T14:59:46.606291Z"
    }
   },
   "outputs": [],
   "source": [
    "from spacy.pipeline.entity_linker import DEFAULT_NEL_MODEL\n"
   ]
  },
  {
   "cell_type": "code",
   "execution_count": null,
   "id": "fe2974d2-103a-40c2-9ce0-0c9a08e1998e",
   "metadata": {},
   "outputs": [],
   "source": [
    "def create_kb(vocab):\n",
    "    kb = InMemoryLookupKB(vocab, entity_vector_length=128)\n",
    "    kb.add_entity(...)\n",
    "    kb.add_alias(...)\n",
    "    return kb"
   ]
  },
  {
   "cell_type": "code",
   "execution_count": 18,
   "id": "8945469e-96a5-4ec6-999e-0e47d48c0024",
   "metadata": {
    "execution": {
     "iopub.execute_input": "2024-09-01T15:06:17.521182Z",
     "iopub.status.busy": "2024-09-01T15:06:17.520045Z",
     "iopub.status.idle": "2024-09-01T15:06:17.553302Z",
     "shell.execute_reply": "2024-09-01T15:06:17.552629Z",
     "shell.execute_reply.started": "2024-09-01T15:06:17.521141Z"
    }
   },
   "outputs": [],
   "source": [
    "from spacy.pipeline.entity_linker import DEFAULT_NEL_MODEL\n",
    "config = {\n",
    "   \"labels_discard\": [],\n",
    "   \"n_sents\": 1,\n",
    "   \"incl_prior\": True,\n",
    "   \"incl_context\": True,\n",
    "   \"model\": DEFAULT_NEL_MODEL,\n",
    "   \"entity_vector_length\": 300,\n",
    "   \"get_candidates\": {'@misc': 'spacy.CandidateGenerator.v1'},\n",
    "   \"threshold\": None,\n",
    "}\n",
    "entity_linker = nlp.add_pipe(\"entity_linker\", config=config)"
   ]
  },
  {
   "cell_type": "code",
   "execution_count": 20,
   "id": "9ee697db-1e7d-4bab-8355-562c464bf205",
   "metadata": {
    "execution": {
     "iopub.execute_input": "2024-09-01T15:09:39.956852Z",
     "iopub.status.busy": "2024-09-01T15:09:39.956140Z",
     "iopub.status.idle": "2024-09-01T15:09:39.962874Z",
     "shell.execute_reply": "2024-09-01T15:09:39.961982Z",
     "shell.execute_reply.started": "2024-09-01T15:09:39.956816Z"
    }
   },
   "outputs": [],
   "source": [
    "from spacy.ml.models import load_kb\n",
    "\n",
    "entity_linker.set_kb(lambda vocab: load_kb(output_dir / \"my_kb\"))\n",
    "# entity_linker.initialize(lambda: examples, nlp=nlp, kb_loader=my_kb)"
   ]
  },
  {
   "cell_type": "code",
   "execution_count": null,
   "id": "abb223fe-ce83-43bd-ba0f-4fbb2b8ba1a2",
   "metadata": {},
   "outputs": [],
   "source": [
    "from spacy.pipeline import EntityLinker\n",
    "entity_linker = EntityLinker(nlp.vocab, DEFAULT_NEL_MODEL, name=\"entity_linker\", cds)"
   ]
  },
  {
   "cell_type": "code",
   "execution_count": null,
   "id": "686ad63c-2d82-4524-bc24-3b788174ceb2",
   "metadata": {
    "execution": {
     "iopub.execute_input": "2024-09-01T15:20:48.334081Z",
     "iopub.status.busy": "2024-09-01T15:20:48.332857Z",
     "iopub.status.idle": "2024-09-01T15:20:48.366176Z",
     "shell.execute_reply": "2024-09-01T15:20:48.365674Z",
     "shell.execute_reply.started": "2024-09-01T15:20:48.334048Z"
    }
   },
   "outputs": [],
   "source": [
    "from spacy.pipeline import EntityLinker\n",
    "from spacy.kb import Candidate\n",
    "\n",
    "# candidate = Candidate(kb, entity_hash, entity_freq, entity_vector, alias_hash, prior_prob)\n",
    "\n",
    "entity_linker = EntityLinker(\n",
    "    nlp.vocab,\n",
    "    DEFAULT_NEL_MODEL,\n",
    "    entity_vector_length=300,\n",
    "    get_candidates=lambda kb, span: None,\n",
    ")"
   ]
  },
  {
   "cell_type": "code",
   "execution_count": null,
   "id": "ae05ff36-88d1-4652-a78d-abc478e0437c",
   "metadata": {
    "execution": {
     "iopub.execute_input": "2024-09-01T15:15:13.829059Z",
     "iopub.status.busy": "2024-09-01T15:15:13.828177Z",
     "iopub.status.idle": "2024-09-01T15:15:14.720877Z",
     "shell.execute_reply": "2024-09-01T15:15:14.720384Z",
     "shell.execute_reply.started": "2024-09-01T15:15:13.829009Z"
    },
    "scrolled": true
   },
   "outputs": [],
   "source": [
    "\n",
    "\n",
    "nlp = spacy.load(\"en_core_web_md\")\n",
    "doc = nlp(\"Tennis champion Emerson was expected to win Wimbledon.\")\n",
    "entity_linker = nlp.add_pipe(\"entity_linker\")\n",
    "entity_linker.set_kb(lambda vocab: load_kb(output_dir / \"my_kb\"))\n",
    "# This usually happens under the hood\n",
    "processed = entity_linker(doc)\n"
   ]
  },
  {
   "cell_type": "code",
   "execution_count": null,
   "id": "8ae2e22e-fd0b-439d-afbb-a496660399e9",
   "metadata": {
    "execution": {
     "iopub.execute_input": "2024-09-01T15:13:57.937761Z",
     "iopub.status.busy": "2024-09-01T15:13:57.936787Z",
     "iopub.status.idle": "2024-09-01T15:13:57.951405Z",
     "shell.execute_reply": "2024-09-01T15:13:57.950744Z",
     "shell.execute_reply.started": "2024-09-01T15:13:57.937732Z"
    }
   },
   "outputs": [],
   "source": [
    "processed"
   ]
  },
  {
   "cell_type": "code",
   "execution_count": null,
   "id": "b61fecaf-52ae-47bb-8c37-db9dd4ee9768",
   "metadata": {
    "execution": {
     "iopub.execute_input": "2024-09-01T15:10:14.613565Z",
     "iopub.status.busy": "2024-09-01T15:10:14.612970Z",
     "iopub.status.idle": "2024-09-01T15:10:14.761905Z",
     "shell.execute_reply": "2024-09-01T15:10:14.761370Z",
     "shell.execute_reply.started": "2024-09-01T15:10:14.613542Z"
    },
    "scrolled": true
   },
   "outputs": [],
   "source": [
    "text = \"Tennis champion Emerson was expected to win Wimbledon.\"\n",
    "doc = nlp(text)\n",
    "for ent in doc.ents:\n",
    "    print(ent.text, ent.label_, ent.kb_id_)"
   ]
  },
  {
   "cell_type": "markdown",
   "id": "913fd5ad-d5d1-469f-b936-02d83b01c410",
   "metadata": {},
   "source": [
    "## implementing my own entity linker based on microsoft/spacy_ann_linker"
   ]
  },
  {
   "cell_type": "code",
   "execution_count": null,
   "id": "46ab03d7-d290-4e74-a04a-48395a3785f9",
   "metadata": {
    "execution": {
     "iopub.execute_input": "2024-09-08T19:31:47.919683Z",
     "iopub.status.busy": "2024-09-08T19:31:47.919488Z",
     "iopub.status.idle": "2024-09-08T19:31:50.243461Z",
     "shell.execute_reply": "2024-09-08T19:31:50.243127Z",
     "shell.execute_reply.started": "2024-09-08T19:31:47.919663Z"
    }
   },
   "outputs": [],
   "source": [
    "from src.ann_linker.dag import entities, aliases, nlp, kb"
   ]
  },
  {
   "cell_type": "code",
   "execution_count": 2,
   "id": "0ed52a95-b87c-4caf-aac5-a0da9fd0ecdc",
   "metadata": {
    "execution": {
     "iopub.execute_input": "2024-09-08T19:31:50.244140Z",
     "iopub.status.busy": "2024-09-08T19:31:50.243969Z",
     "iopub.status.idle": "2024-09-08T19:31:50.250310Z",
     "shell.execute_reply": "2024-09-08T19:31:50.249986Z",
     "shell.execute_reply.started": "2024-09-08T19:31:50.244129Z"
    }
   },
   "outputs": [],
   "source": [
    "from src.ann_linker.linker import AnnLinker"
   ]
  },
  {
   "cell_type": "code",
   "execution_count": 3,
   "id": "4761b968-9d6d-4924-9eb9-d62ce34646fd",
   "metadata": {
    "execution": {
     "iopub.execute_input": "2024-09-08T19:31:50.251896Z",
     "iopub.status.busy": "2024-09-08T19:31:50.251780Z",
     "iopub.status.idle": "2024-09-08T19:31:52.142035Z",
     "shell.execute_reply": "2024-09-08T19:31:52.141730Z",
     "shell.execute_reply.started": "2024-09-08T19:31:50.251886Z"
    }
   },
   "outputs": [],
   "source": [
    "entities = entities()\n",
    "aliases = aliases()\n",
    "nlp = nlp()"
   ]
  },
  {
   "cell_type": "code",
   "execution_count": null,
   "id": "ecd7cd8b-f7f6-4261-ade0-881e95cdd2b5",
   "metadata": {
    "execution": {
     "iopub.execute_input": "2024-09-08T19:31:52.142789Z",
     "iopub.status.busy": "2024-09-08T19:31:52.142491Z",
     "iopub.status.idle": "2024-09-08T19:31:56.102319Z",
     "shell.execute_reply": "2024-09-08T19:31:56.101881Z",
     "shell.execute_reply.started": "2024-09-08T19:31:52.142779Z"
    }
   },
   "outputs": [],
   "source": [
    "kb = kb(entities, aliases)"
   ]
  },
  {
   "cell_type": "code",
   "execution_count": null,
   "id": "8dbc8f0e-b488-40d0-af24-63186d0c4347",
   "metadata": {
    "execution": {
     "iopub.execute_input": "2024-09-08T19:31:56.103409Z",
     "iopub.status.busy": "2024-09-08T19:31:56.103069Z",
     "iopub.status.idle": "2024-09-08T19:31:56.122679Z",
     "shell.execute_reply": "2024-09-08T19:31:56.122304Z",
     "shell.execute_reply.started": "2024-09-08T19:31:56.103397Z"
    }
   },
   "outputs": [],
   "source": [
    "kb.get_alias_candidates(\"ML\")"
   ]
  },
  {
   "cell_type": "code",
   "execution_count": null,
   "id": "983cfa17-79ea-464a-92d3-f007fcd40622",
   "metadata": {
    "execution": {
     "iopub.execute_input": "2024-09-08T19:31:56.123566Z",
     "iopub.status.busy": "2024-09-08T19:31:56.123394Z",
     "iopub.status.idle": "2024-09-08T19:31:56.142320Z",
     "shell.execute_reply": "2024-09-08T19:31:56.141959Z",
     "shell.execute_reply.started": "2024-09-08T19:31:56.123554Z"
    }
   },
   "outputs": [],
   "source": [
    "candidate_entities = kb.get_entity_candidates(\"ML\")\n",
    "candidate_entities"
   ]
  },
  {
   "cell_type": "code",
   "execution_count": null,
   "id": "048d9aa1-e2e7-4756-af1d-6014b97f59cf",
   "metadata": {
    "execution": {
     "iopub.execute_input": "2024-09-08T19:31:56.142947Z",
     "iopub.status.busy": "2024-09-08T19:31:56.142859Z",
     "iopub.status.idle": "2024-09-08T19:31:56.146628Z",
     "shell.execute_reply": "2024-09-08T19:31:56.146223Z",
     "shell.execute_reply.started": "2024-09-08T19:31:56.142938Z"
    }
   },
   "outputs": [],
   "source": [
    "[e for e in entities if e.entity_id in candidate_entities]"
   ]
  },
  {
   "cell_type": "code",
   "execution_count": 8,
   "id": "2484ab85-b8a6-4698-b294-cc42ab601f4e",
   "metadata": {
    "execution": {
     "iopub.execute_input": "2024-09-08T19:31:56.147493Z",
     "iopub.status.busy": "2024-09-08T19:31:56.147273Z",
     "iopub.status.idle": "2024-09-08T19:31:56.166227Z",
     "shell.execute_reply": "2024-09-08T19:31:56.165787Z",
     "shell.execute_reply.started": "2024-09-08T19:31:56.147441Z"
    }
   },
   "outputs": [],
   "source": [
    "doc_embedding = kb._embed(\"Linear regression is one of the first statistical models used by students of ML\")"
   ]
  },
  {
   "cell_type": "code",
   "execution_count": null,
   "id": "feb90a23-d861-440a-9b31-928e9e1d0155",
   "metadata": {
    "execution": {
     "iopub.execute_input": "2024-09-08T19:31:56.167291Z",
     "iopub.status.busy": "2024-09-08T19:31:56.167087Z",
     "iopub.status.idle": "2024-09-08T19:31:56.178838Z",
     "shell.execute_reply": "2024-09-08T19:31:56.177916Z",
     "shell.execute_reply.started": "2024-09-08T19:31:56.167279Z"
    }
   },
   "outputs": [],
   "source": [
    "kb.disambiguate(candidate_entities, doc_embedding)"
   ]
  },
  {
   "cell_type": "code",
   "execution_count": null,
   "id": "871f7883-32ef-4eac-9eff-18fb5385e2c3",
   "metadata": {
    "execution": {
     "iopub.execute_input": "2024-09-08T19:31:56.210498Z",
     "iopub.status.busy": "2024-09-08T19:31:56.210247Z",
     "iopub.status.idle": "2024-09-08T19:31:56.231737Z",
     "shell.execute_reply": "2024-09-08T19:31:56.231290Z",
     "shell.execute_reply.started": "2024-09-08T19:31:56.210484Z"
    }
   },
   "outputs": [],
   "source": [
    "kb.get_alias_candidates(\"learning\")"
   ]
  },
  {
   "cell_type": "code",
   "execution_count": 11,
   "id": "fa7a8c95-b36a-450e-90e8-e42dffc071e5",
   "metadata": {
    "execution": {
     "iopub.execute_input": "2024-09-08T19:31:57.560492Z",
     "iopub.status.busy": "2024-09-08T19:31:57.559957Z",
     "iopub.status.idle": "2024-09-08T19:31:57.596980Z",
     "shell.execute_reply": "2024-09-08T19:31:57.596640Z",
     "shell.execute_reply.started": "2024-09-08T19:31:57.560466Z"
    }
   },
   "outputs": [],
   "source": [
    "ruler = nlp.add_pipe('entity_ruler')\n",
    "patterns = [\n",
    "    {\"label\": \"SKILL\", \"pattern\": alias}\n",
    "    for alias in [a.alias for a in aliases] + ['machine learn']\n",
    "]\n",
    "ruler.add_patterns(patterns)"
   ]
  },
  {
   "cell_type": "code",
   "execution_count": 12,
   "id": "c1e45c85-3b68-4dbb-b8a7-4cdcdab5820a",
   "metadata": {
    "execution": {
     "iopub.execute_input": "2024-09-08T19:31:58.789780Z",
     "iopub.status.busy": "2024-09-08T19:31:58.789204Z",
     "iopub.status.idle": "2024-09-08T19:31:58.805613Z",
     "shell.execute_reply": "2024-09-08T19:31:58.804864Z",
     "shell.execute_reply.started": "2024-09-08T19:31:58.789751Z"
    }
   },
   "outputs": [],
   "source": [
    "ann_linker = nlp.add_pipe(\"ann_linker\", last=True)\n",
    "ann_linker.set_kb(kb)"
   ]
  },
  {
   "cell_type": "code",
   "execution_count": 13,
   "id": "ea90b89d-5d19-4d38-9eb3-3e08f056349b",
   "metadata": {
    "execution": {
     "iopub.execute_input": "2024-09-08T19:31:59.438789Z",
     "iopub.status.busy": "2024-09-08T19:31:59.438022Z",
     "iopub.status.idle": "2024-09-08T19:31:59.512043Z",
     "shell.execute_reply": "2024-09-08T19:31:59.511635Z",
     "shell.execute_reply.started": "2024-09-08T19:31:59.438755Z"
    }
   },
   "outputs": [],
   "source": [
    "doc = nlp(\"NLP is a subset of machine learn.\")"
   ]
  },
  {
   "cell_type": "code",
   "execution_count": null,
   "id": "c5f06984-5174-48bd-af74-c290cc0b4cf5",
   "metadata": {
    "execution": {
     "iopub.execute_input": "2024-09-08T19:32:00.690335Z",
     "iopub.status.busy": "2024-09-08T19:32:00.689587Z",
     "iopub.status.idle": "2024-09-08T19:32:00.707693Z",
     "shell.execute_reply": "2024-09-08T19:32:00.706636Z",
     "shell.execute_reply.started": "2024-09-08T19:32:00.690297Z"
    }
   },
   "outputs": [],
   "source": [
    "doc.ents"
   ]
  },
  {
   "cell_type": "code",
   "execution_count": null,
   "id": "e2fa5e32-3007-4023-b76b-7223790dc308",
   "metadata": {
    "execution": {
     "iopub.execute_input": "2024-09-08T19:32:01.725166Z",
     "iopub.status.busy": "2024-09-08T19:32:01.724047Z",
     "iopub.status.idle": "2024-09-08T19:32:01.885990Z",
     "shell.execute_reply": "2024-09-08T19:32:01.885592Z",
     "shell.execute_reply.started": "2024-09-08T19:32:01.725122Z"
    }
   },
   "outputs": [],
   "source": [
    "kb.get_candidates_batch(doc.ents)"
   ]
  },
  {
   "cell_type": "code",
   "execution_count": null,
   "id": "d8b7df66-d31c-42f7-aa2f-d455b8b0fbfc",
   "metadata": {
    "execution": {
     "iopub.execute_input": "2024-09-08T19:32:03.858960Z",
     "iopub.status.busy": "2024-09-08T19:32:03.857944Z",
     "iopub.status.idle": "2024-09-08T19:32:03.870894Z",
     "shell.execute_reply": "2024-09-08T19:32:03.869821Z",
     "shell.execute_reply.started": "2024-09-08T19:32:03.858904Z"
    }
   },
   "outputs": [],
   "source": [
    "for ent in doc.ents:\n",
    "    print(ent.kb_id_)"
   ]
  },
  {
   "cell_type": "code",
   "execution_count": null,
   "id": "96887397-48d9-4e7d-a16d-c36ab5111e28",
   "metadata": {
    "execution": {
     "iopub.execute_input": "2024-09-08T19:32:05.600718Z",
     "iopub.status.busy": "2024-09-08T19:32:05.597263Z",
     "iopub.status.idle": "2024-09-08T19:32:05.636338Z",
     "shell.execute_reply": "2024-09-08T19:32:05.635826Z",
     "shell.execute_reply.started": "2024-09-08T19:32:05.600662Z"
    }
   },
   "outputs": [],
   "source": [
    "kb.get_alias_candidates(\"machine learn\")"
   ]
  },
  {
   "cell_type": "code",
   "execution_count": null,
   "id": "fa077cd2-953f-4e1c-8f9a-960314593f51",
   "metadata": {
    "execution": {
     "iopub.execute_input": "2024-09-08T19:32:07.669448Z",
     "iopub.status.busy": "2024-09-08T19:32:07.669138Z",
     "iopub.status.idle": "2024-09-08T19:32:07.692476Z",
     "shell.execute_reply": "2024-09-08T19:32:07.691873Z",
     "shell.execute_reply.started": "2024-09-08T19:32:07.669431Z"
    }
   },
   "outputs": [],
   "source": [
    "kb.get_entity_candidates(\"machine learn\")"
   ]
  },
  {
   "cell_type": "code",
   "execution_count": null,
   "id": "5d822cdf-255b-44c2-92da-75d7cfbe53f7",
   "metadata": {
    "execution": {
     "iopub.execute_input": "2024-09-08T19:32:08.896537Z",
     "iopub.status.busy": "2024-09-08T19:32:08.896202Z",
     "iopub.status.idle": "2024-09-08T19:32:08.945452Z",
     "shell.execute_reply": "2024-09-08T19:32:08.945090Z",
     "shell.execute_reply.started": "2024-09-08T19:32:08.896515Z"
    }
   },
   "outputs": [],
   "source": [
    "doc_embedding = kb._embed(doc.text)\n",
    "kb.disambiguate(kb.get_entity_candidates(\"machine learn\"), doc_embedding)"
   ]
  },
  {
   "cell_type": "code",
   "execution_count": null,
   "id": "0a0b4030-0ab3-4487-8a5f-c2424b8686a7",
   "metadata": {
    "execution": {
     "iopub.execute_input": "2024-09-08T19:32:18.910539Z",
     "iopub.status.busy": "2024-09-08T19:32:18.909977Z",
     "iopub.status.idle": "2024-09-08T19:32:18.920208Z",
     "shell.execute_reply": "2024-09-08T19:32:18.919396Z",
     "shell.execute_reply.started": "2024-09-08T19:32:18.910508Z"
    }
   },
   "outputs": [],
   "source": [
    "doc.ents[0]._.alias_candidates"
   ]
  },
  {
   "cell_type": "code",
   "execution_count": null,
   "id": "166c4872-95d7-4c2a-90b0-fc41a7ecf6d7",
   "metadata": {
    "execution": {
     "iopub.execute_input": "2024-09-08T19:32:19.313544Z",
     "iopub.status.busy": "2024-09-08T19:32:19.312977Z",
     "iopub.status.idle": "2024-09-08T19:32:19.329075Z",
     "shell.execute_reply": "2024-09-08T19:32:19.328216Z",
     "shell.execute_reply.started": "2024-09-08T19:32:19.313499Z"
    }
   },
   "outputs": [],
   "source": [
    "doc.ents[0]._.kb_candidates"
   ]
  },
  {
   "cell_type": "code",
   "execution_count": null,
   "id": "23544572-c7c3-4982-97d8-da17c51d67f1",
   "metadata": {
    "execution": {
     "iopub.execute_input": "2024-09-08T19:32:19.839774Z",
     "iopub.status.busy": "2024-09-08T19:32:19.838969Z",
     "iopub.status.idle": "2024-09-08T19:32:19.861335Z",
     "shell.execute_reply": "2024-09-08T19:32:19.857819Z",
     "shell.execute_reply.started": "2024-09-08T19:32:19.839731Z"
    }
   },
   "outputs": [],
   "source": [
    "doc.ents[1]._.alias_candidates"
   ]
  },
  {
   "cell_type": "code",
   "execution_count": null,
   "id": "423306af-3475-44fb-be40-2c7b5bdecafe",
   "metadata": {
    "execution": {
     "iopub.execute_input": "2024-09-08T19:32:20.306874Z",
     "iopub.status.busy": "2024-09-08T19:32:20.306341Z",
     "iopub.status.idle": "2024-09-08T19:32:20.320781Z",
     "shell.execute_reply": "2024-09-08T19:32:20.320113Z",
     "shell.execute_reply.started": "2024-09-08T19:32:20.306846Z"
    }
   },
   "outputs": [],
   "source": [
    "doc.ents[1]._.kb_candidates"
   ]
  },
  {
   "cell_type": "code",
   "execution_count": null,
   "id": "ffd69d8b-b416-4010-a772-6b3bea2e789a",
   "metadata": {},
   "outputs": [],
   "source": []
  },
  {
   "cell_type": "code",
   "execution_count": null,
   "id": "e912787c-bb32-4a2c-94d1-54a41d2743a2",
   "metadata": {},
   "outputs": [],
   "source": []
  },
  {
   "cell_type": "code",
   "execution_count": 32,
   "id": "0fe3f8f4-2cd6-4677-9275-7ad469056e16",
   "metadata": {
    "execution": {
     "iopub.execute_input": "2024-09-08T18:34:23.154568Z",
     "iopub.status.busy": "2024-09-08T18:34:23.153391Z",
     "iopub.status.idle": "2024-09-08T18:34:23.169401Z",
     "shell.execute_reply": "2024-09-08T18:34:23.163296Z",
     "shell.execute_reply.started": "2024-09-08T18:34:23.154509Z"
    }
   },
   "outputs": [],
   "source": [
    "scanner = tbl._dataset.scanner(columns=[\"alias.alias\"])"
   ]
  },
  {
   "cell_type": "code",
   "execution_count": 34,
   "id": "d52fa865-8723-446e-b3d5-34b817de395d",
   "metadata": {
    "execution": {
     "iopub.execute_input": "2024-09-08T18:35:17.715408Z",
     "iopub.status.busy": "2024-09-08T18:35:17.714990Z",
     "iopub.status.idle": "2024-09-08T18:35:17.728666Z",
     "shell.execute_reply": "2024-09-08T18:35:17.726850Z",
     "shell.execute_reply.started": "2024-09-08T18:35:17.715383Z"
    }
   },
   "outputs": [],
   "source": [
    "unique_labels = set()\n",
    "for batch in scanner.to_batches():\n",
    "    unique_labels.update(batch.column(\"alias.alias\").to_pylist())"
   ]
  },
  {
   "cell_type": "markdown",
   "id": "91e16035-4213-43a5-b707-32993c03b922",
   "metadata": {
    "execution": {
     "iopub.execute_input": "2024-09-08T18:35:33.991161Z",
     "iopub.status.busy": "2024-09-08T18:35:33.990466Z",
     "iopub.status.idle": "2024-09-08T18:35:34.004831Z",
     "shell.execute_reply": "2024-09-08T18:35:34.004255Z",
     "shell.execute_reply.started": "2024-09-08T18:35:33.991122Z"
    }
   },
   "source": [
    "len(unique_labels)"
   ]
  },
  {
   "cell_type": "code",
   "execution_count": null,
   "id": "6ed37e3d-5dfb-40c6-9db9-a248b80dc311",
   "metadata": {
    "execution": {
     "iopub.execute_input": "2024-09-29T15:57:49.216131Z",
     "iopub.status.busy": "2024-09-29T15:57:49.215185Z",
     "iopub.status.idle": "2024-09-29T15:57:49.229869Z",
     "shell.execute_reply": "2024-09-29T15:57:49.229300Z",
     "shell.execute_reply.started": "2024-09-29T15:57:49.216093Z"
    }
   },
   "outputs": [],
   "source": [
    "alias_records"
   ]
  },
  {
   "cell_type": "code",
   "execution_count": 14,
   "id": "300eaeca-e0b8-48f8-934e-2e94181be5f9",
   "metadata": {
    "execution": {
     "iopub.execute_input": "2024-09-29T15:59:05.053384Z",
     "iopub.status.busy": "2024-09-29T15:59:05.053039Z",
     "iopub.status.idle": "2024-09-29T15:59:05.057451Z",
     "shell.execute_reply": "2024-09-29T15:59:05.056605Z",
     "shell.execute_reply.started": "2024-09-29T15:59:05.053360Z"
    }
   },
   "outputs": [],
   "source": [
    "import json"
   ]
  },
  {
   "cell_type": "code",
   "execution_count": 29,
   "id": "a6be7266-eb20-4a31-8138-7b1a2ca3cf11",
   "metadata": {
    "execution": {
     "iopub.execute_input": "2024-09-29T16:08:35.886861Z",
     "iopub.status.busy": "2024-09-29T16:08:35.886667Z",
     "iopub.status.idle": "2024-09-29T16:08:35.889349Z",
     "shell.execute_reply": "2024-09-29T16:08:35.889034Z",
     "shell.execute_reply.started": "2024-09-29T16:08:35.886845Z"
    }
   },
   "outputs": [],
   "source": [
    "import pandas as pd"
   ]
  },
  {
   "cell_type": "code",
   "execution_count": 32,
   "id": "195e4f48-d799-4ea9-baff-1cdb45171957",
   "metadata": {
    "execution": {
     "iopub.execute_input": "2024-09-29T16:08:36.823163Z",
     "iopub.status.busy": "2024-09-29T16:08:36.823032Z",
     "iopub.status.idle": "2024-09-29T16:08:36.825457Z",
     "shell.execute_reply": "2024-09-29T16:08:36.825050Z",
     "shell.execute_reply.started": "2024-09-29T16:08:36.823152Z"
    }
   },
   "outputs": [],
   "source": [
    "import numpy as np"
   ]
  },
  {
   "cell_type": "code",
   "execution_count": 29,
   "id": "fcec0ff6-453a-4a59-a18b-ff9e2599648f",
   "metadata": {
    "execution": {
     "iopub.execute_input": "2024-09-29T16:51:11.708596Z",
     "iopub.status.busy": "2024-09-29T16:51:11.707485Z",
     "iopub.status.idle": "2024-09-29T16:51:11.729836Z",
     "shell.execute_reply": "2024-09-29T16:51:11.729032Z",
     "shell.execute_reply.started": "2024-09-29T16:51:11.708536Z"
    }
   },
   "outputs": [],
   "source": [
    "class AliasRawData(TypedDict):\n",
    "    alias: str\n",
    "    entity: int\n",
    "\n",
    "\n",
    "def load_aliases(\n",
    "    icij_path: str | pathlib.Path = \"data/ICIJ-entity-report-2024-06-21_12-04-57-std.json\",\n",
    ") -> list[AliasRawData]:\n",
    "    alias_records: list[AliasRawData] = []\n",
    "\n",
    "    with open(icij_path, \"r\", encoding=\"utf-8\") as fp:\n",
    "        while line := fp.readline():\n",
    "            dat = json.loads(line.strip())\n",
    "\n",
    "            # add aliases from resolved entities\n",
    "            entity: dict = dat[\"RESOLVED_ENTITY\"]\n",
    "            if not entity[\"ENTITY_NAME\"]:\n",
    "                continue\n",
    "            for record in entity[\"RECORDS\"]:\n",
    "                alias_records.append(\n",
    "                    {\"alias\": entity[\"ENTITY_NAME\"], \"entity\": record[\"INTERNAL_ID\"]}\n",
    "                )\n",
    "\n",
    "            # add aliases from related entities\n",
    "            related_entities: dict = dat[\"RELATED_ENTITIES\"]\n",
    "            for record in related_entities:\n",
    "                # MATCH_LEVEL_CODE is either POSSIBLY_SAME or POSSIBLY_RELATED or RESOLVED or DISCLOSED\n",
    "                # we choose to add an alias record if POSSIBLY_SAME\n",
    "                if record[\"MATCH_LEVEL_CODE\"] in [\"POSSIBLY_SAME\", \"RESOLVED\", \"DISCLOSED\"]:\n",
    "                    alias_records.append(\n",
    "                        {\"alias\": entity[\"ENTITY_NAME\"], \"entity\": record[\"ENTITY_ID\"]}\n",
    "                    )\n",
    "                # and discard if POSSIBLY_RELATED\n",
    "                elif record[\"MATCH_LEVEL_CODE\"] == \"POSSIBLY_RELATED\":\n",
    "                    continue\n",
    "\n",
    "    return alias_records\n",
    "\n",
    "def generate_aliases(raw_aliases: list[AliasRawData]) -> pd.DataFrame:\n",
    "    df = (\n",
    "        pd.DataFrame.from_records(raw_aliases)\n",
    "        .groupby(\"alias\")\n",
    "        .agg(counts=(\"entity\", Counter))\n",
    "        .assign(entities=lambda d: d.counts.apply(list))\n",
    "        .assign(\n",
    "            probabilites=lambda d: d.counts.apply(\n",
    "                lambda x: [count / x.total() for k, count in x.items()]\n",
    "            )\n",
    "        )\n",
    "        .drop(columns=\"counts\")\n",
    "        .reset_index()\n",
    "    )\n",
    "    return df\n",
    "\n",
    "\n",
    "def write_aliases(\n",
    "    aliases: pd.DataFrame, filepath: str | pathlib.Path = \"data/senzing/aliases.jsonl\"\n",
    "):\n",
    "    aliases.to_json(filepath, orient=\"records\", lines=True)"
   ]
  },
  {
   "cell_type": "code",
   "execution_count": 30,
   "id": "d343a3b9-2062-4ffd-85bf-8b57c63b19bc",
   "metadata": {
    "execution": {
     "iopub.execute_input": "2024-09-29T16:51:13.622091Z",
     "iopub.status.busy": "2024-09-29T16:51:13.621900Z",
     "iopub.status.idle": "2024-09-29T16:51:39.395605Z",
     "shell.execute_reply": "2024-09-29T16:51:39.394900Z",
     "shell.execute_reply.started": "2024-09-29T16:51:13.622079Z"
    }
   },
   "outputs": [],
   "source": [
    "raw_aliases = load_aliases()"
   ]
  },
  {
   "cell_type": "code",
   "execution_count": 31,
   "id": "a9b084ee-87f4-49fa-9e6a-b6010fd7f5f2",
   "metadata": {
    "execution": {
     "iopub.execute_input": "2024-09-29T16:51:39.397150Z",
     "iopub.status.busy": "2024-09-29T16:51:39.396967Z",
     "iopub.status.idle": "2024-09-29T16:52:42.519010Z",
     "shell.execute_reply": "2024-09-29T16:52:42.518465Z",
     "shell.execute_reply.started": "2024-09-29T16:51:39.397136Z"
    }
   },
   "outputs": [],
   "source": [
    "aliases = generate_aliases(raw_aliases)"
   ]
  },
  {
   "cell_type": "code",
   "execution_count": null,
   "id": "1563c114-12b8-4281-a0a9-20636c130a07",
   "metadata": {
    "execution": {
     "iopub.execute_input": "2024-09-29T16:52:42.519827Z",
     "iopub.status.busy": "2024-09-29T16:52:42.519702Z",
     "iopub.status.idle": "2024-09-29T16:52:42.525536Z",
     "shell.execute_reply": "2024-09-29T16:52:42.525209Z",
     "shell.execute_reply.started": "2024-09-29T16:52:42.519817Z"
    }
   },
   "outputs": [],
   "source": [
    "aliases.head()"
   ]
  },
  {
   "cell_type": "code",
   "execution_count": null,
   "id": "1c37626c-144b-4aee-9965-3b54387832a4",
   "metadata": {
    "execution": {
     "iopub.execute_input": "2024-09-29T16:34:39.418728Z",
     "iopub.status.busy": "2024-09-29T16:34:39.418631Z",
     "iopub.status.idle": "2024-09-29T16:34:39.422867Z",
     "shell.execute_reply": "2024-09-29T16:34:39.422578Z",
     "shell.execute_reply.started": "2024-09-29T16:34:39.418718Z"
    }
   },
   "outputs": [],
   "source": [
    "aliases.head()"
   ]
  },
  {
   "cell_type": "code",
   "execution_count": 33,
   "id": "878d32f0-fc86-4131-8c31-e638d0bf66ef",
   "metadata": {
    "execution": {
     "iopub.execute_input": "2024-09-29T16:52:48.789749Z",
     "iopub.status.busy": "2024-09-29T16:52:48.787744Z",
     "iopub.status.idle": "2024-09-29T16:52:51.147558Z",
     "shell.execute_reply": "2024-09-29T16:52:51.147201Z",
     "shell.execute_reply.started": "2024-09-29T16:52:48.789691Z"
    }
   },
   "outputs": [],
   "source": [
    "write_aliases(aliases)"
   ]
  },
  {
   "cell_type": "markdown",
   "id": "a1a8f309-bf00-4e92-baf3-c8b753002aab",
   "metadata": {},
   "source": [
    "## Cherry pick the entities "
   ]
  },
  {
   "cell_type": "code",
   "execution_count": 13,
   "id": "e3890cf5-2261-4253-9fb2-e08440a4fdf3",
   "metadata": {
    "execution": {
     "iopub.execute_input": "2024-10-13T14:58:06.464088Z",
     "iopub.status.busy": "2024-10-13T14:58:06.463513Z",
     "iopub.status.idle": "2024-10-13T14:58:06.502173Z",
     "shell.execute_reply": "2024-10-13T14:58:06.501699Z",
     "shell.execute_reply.started": "2024-10-13T14:58:06.464057Z"
    }
   },
   "outputs": [],
   "source": [
    "%load_ext autoreload\n",
    "%autoreload 2"
   ]
  },
  {
   "cell_type": "code",
   "execution_count": 14,
   "id": "2629789b-7f6b-402d-827c-2f5d3b196f98",
   "metadata": {
    "execution": {
     "iopub.execute_input": "2024-10-13T14:58:06.645056Z",
     "iopub.status.busy": "2024-10-13T14:58:06.644013Z",
     "iopub.status.idle": "2024-10-13T14:58:21.570689Z",
     "shell.execute_reply": "2024-10-13T14:58:21.570338Z",
     "shell.execute_reply.started": "2024-10-13T14:58:06.644998Z"
    }
   },
   "outputs": [],
   "source": [
    "import spacy\n",
    "from spacy.tokens import DocBin\n",
    "from spacy import displacy\n",
    "import srsly\n",
    "\n",
    "from spacy_lancedb_linker.kb import AnnKnowledgeBase\n",
    "from spacy_lancedb_linker.linker import AnnLinker  # noqa\n",
    "from spacy_lancedb_linker.types import Alias, Entity\n",
    "from src.scraper import SPACY_MODEL"
   ]
  },
  {
   "cell_type": "code",
   "execution_count": 15,
   "id": "844c1e4f-2274-47e7-aa7c-5aab6300ea76",
   "metadata": {
    "execution": {
     "iopub.execute_input": "2024-10-13T14:58:21.571766Z",
     "iopub.status.busy": "2024-10-13T14:58:21.571528Z",
     "iopub.status.idle": "2024-10-13T14:58:21.633926Z",
     "shell.execute_reply": "2024-10-13T14:58:21.633582Z",
     "shell.execute_reply.started": "2024-10-13T14:58:21.571754Z"
    }
   },
   "outputs": [],
   "source": [
    "from src.senzing_pipeline import load_aliases, load_countries, load_entities"
   ]
  },
  {
   "cell_type": "markdown",
   "id": "14f56e07-d48c-4674-a4f1-2f5a69bcaefa",
   "metadata": {},
   "source": [
    "Pipeline is:\n",
    "- take docbin of articles\n",
    "- collect NER and noun chunks\n",
    "- pre-filter senzing results for that\n",
    "- build entity summaries and aliases for that pre-filtered set\n",
    "- load the spacy model for EL and do EL"
   ]
  },
  {
   "cell_type": "code",
   "execution_count": null,
   "id": "5656fc51-631d-4059-b520-6e4c68bd86d5",
   "metadata": {
    "execution": {
     "iopub.execute_input": "2024-10-13T10:27:08.331681Z",
     "iopub.status.busy": "2024-10-13T10:27:08.331536Z",
     "iopub.status.idle": "2024-10-13T10:27:45.944598Z",
     "shell.execute_reply": "2024-10-13T10:27:45.944136Z",
     "shell.execute_reply.started": "2024-10-13T10:27:08.331670Z"
    }
   },
   "outputs": [],
   "source": [
    "countries = load_countries()\n",
    "raw_entities = load_entities()"
   ]
  },
  {
   "cell_type": "code",
   "execution_count": null,
   "id": "4e707c67-8949-43b2-b20f-78e36636182b",
   "metadata": {
    "execution": {
     "iopub.execute_input": "2024-10-13T10:29:57.383667Z",
     "iopub.status.busy": "2024-10-13T10:29:57.383168Z",
     "iopub.status.idle": "2024-10-13T10:30:33.297453Z",
     "shell.execute_reply": "2024-10-13T10:30:33.297170Z",
     "shell.execute_reply.started": "2024-10-13T10:29:57.383633Z"
    }
   },
   "outputs": [],
   "source": [
    "raw_aliases = load_aliases()"
   ]
  },
  {
   "cell_type": "code",
   "execution_count": null,
   "id": "0aba3309-7c60-4605-853b-49373b9a618c",
   "metadata": {
    "execution": {
     "iopub.execute_input": "2024-10-13T10:31:38.525711Z",
     "iopub.status.busy": "2024-10-13T10:31:38.525183Z",
     "iopub.status.idle": "2024-10-13T10:31:38.900947Z",
     "shell.execute_reply": "2024-10-13T10:31:38.900654Z",
     "shell.execute_reply.started": "2024-10-13T10:31:38.525677Z"
    }
   },
   "outputs": [],
   "source": [
    "set(a[\"type\"] for a in raw_aliases)"
   ]
  },
  {
   "cell_type": "code",
   "execution_count": 9,
   "id": "dc80037e-a2a4-424e-a913-b0c5e678bed8",
   "metadata": {
    "execution": {
     "iopub.execute_input": "2024-10-13T10:31:43.155975Z",
     "iopub.status.busy": "2024-10-13T10:31:43.155352Z",
     "iopub.status.idle": "2024-10-13T10:31:43.193330Z",
     "shell.execute_reply": "2024-10-13T10:31:43.192825Z",
     "shell.execute_reply.started": "2024-10-13T10:31:43.155943Z"
    }
   },
   "outputs": [],
   "source": [
    "from src.senzing_pipeline import generate_patterns"
   ]
  },
  {
   "cell_type": "code",
   "execution_count": 10,
   "id": "e744dc4f-e30e-4caf-8600-9819835fa53b",
   "metadata": {
    "execution": {
     "iopub.execute_input": "2024-10-13T10:31:43.429896Z",
     "iopub.status.busy": "2024-10-13T10:31:43.428353Z",
     "iopub.status.idle": "2024-10-13T10:31:44.552822Z",
     "shell.execute_reply": "2024-10-13T10:31:44.552479Z",
     "shell.execute_reply.started": "2024-10-13T10:31:43.429849Z"
    }
   },
   "outputs": [],
   "source": [
    "patterns = generate_patterns(raw_aliases)"
   ]
  },
  {
   "cell_type": "code",
   "execution_count": 17,
   "id": "68f75a7f-35e3-45b3-a07d-802a814b6928",
   "metadata": {
    "execution": {
     "iopub.execute_input": "2024-10-13T14:58:29.122922Z",
     "iopub.status.busy": "2024-10-13T14:58:29.122011Z",
     "iopub.status.idle": "2024-10-13T14:58:30.140828Z",
     "shell.execute_reply": "2024-10-13T14:58:30.140482Z",
     "shell.execute_reply.started": "2024-10-13T14:58:29.122874Z"
    }
   },
   "outputs": [],
   "source": [
    "nlp = spacy.load(SPACY_MODEL, exclude=[\"ner\"])"
   ]
  },
  {
   "cell_type": "code",
   "execution_count": 9,
   "id": "7475e907-65ef-41ab-a600-2e8501f37de3",
   "metadata": {
    "execution": {
     "iopub.execute_input": "2024-10-13T09:47:44.707649Z",
     "iopub.status.busy": "2024-10-13T09:47:44.706990Z",
     "iopub.status.idle": "2024-10-13T09:47:44.749984Z",
     "shell.execute_reply": "2024-10-13T09:47:44.749609Z",
     "shell.execute_reply.started": "2024-10-13T09:47:44.707618Z"
    }
   },
   "outputs": [],
   "source": [
    "# disabled = nlp.select_pipes(disable=\"ner\")\n",
    "# doc = nlp(\"I won't have named entities\")\n",
    "# disabled.restore()"
   ]
  },
  {
   "cell_type": "code",
   "execution_count": 13,
   "id": "c5b81387-3a1c-46b8-806d-9b048036c742",
   "metadata": {
    "execution": {
     "iopub.execute_input": "2024-10-13T10:32:08.236418Z",
     "iopub.status.busy": "2024-10-13T10:32:08.235864Z",
     "iopub.status.idle": "2024-10-13T10:35:20.774655Z",
     "shell.execute_reply": "2024-10-13T10:35:20.773670Z",
     "shell.execute_reply.started": "2024-10-13T10:32:08.236389Z"
    }
   },
   "outputs": [],
   "source": [
    "ruler = nlp.add_pipe(\"entity_ruler\")\n",
    "with nlp.select_pipes(enable=\"tagger\"):\n",
    "    ruler.add_patterns(patterns)"
   ]
  },
  {
   "cell_type": "code",
   "execution_count": null,
   "id": "c2f3b310-9614-4a40-86c3-ed27070dbf50",
   "metadata": {
    "execution": {
     "iopub.execute_input": "2024-10-13T10:35:20.776261Z",
     "iopub.status.busy": "2024-10-13T10:35:20.776012Z",
     "iopub.status.idle": "2024-10-13T10:35:20.849168Z",
     "shell.execute_reply": "2024-10-13T10:35:20.848261Z",
     "shell.execute_reply.started": "2024-10-13T10:35:20.776244Z"
    }
   },
   "outputs": [],
   "source": [
    "nlp.pipe_names"
   ]
  },
  {
   "cell_type": "code",
   "execution_count": 20,
   "id": "0e5164aa-fb69-4d3e-becc-926b7d6c0532",
   "metadata": {
    "execution": {
     "iopub.execute_input": "2024-10-13T14:58:54.743528Z",
     "iopub.status.busy": "2024-10-13T14:58:54.742855Z",
     "iopub.status.idle": "2024-10-13T14:58:55.615016Z",
     "shell.execute_reply": "2024-10-13T14:58:55.614636Z",
     "shell.execute_reply.started": "2024-10-13T14:58:54.743492Z"
    }
   },
   "outputs": [],
   "source": [
    "nlp = spacy.load(SPACY_MODEL)"
   ]
  },
  {
   "cell_type": "code",
   "execution_count": 35,
   "id": "27d9747f-6eb6-4b52-a0aa-a8a295ae91e5",
   "metadata": {
    "execution": {
     "iopub.execute_input": "2024-10-13T15:07:45.798849Z",
     "iopub.status.busy": "2024-10-13T15:07:45.798233Z",
     "iopub.status.idle": "2024-10-13T15:07:46.386859Z",
     "shell.execute_reply": "2024-10-13T15:07:46.386596Z",
     "shell.execute_reply.started": "2024-10-13T15:07:45.798818Z"
    }
   },
   "outputs": [],
   "source": [
    "doc_bin = DocBin().from_disk(path=\"data/dataset.spacy\")\n",
    "docs = list(doc_bin.get_docs(nlp.vocab))"
   ]
  },
  {
   "cell_type": "code",
   "execution_count": 25,
   "id": "dffeab9e-17d1-4973-9707-544357513b4a",
   "metadata": {
    "execution": {
     "iopub.execute_input": "2024-10-13T10:46:50.585874Z",
     "iopub.status.busy": "2024-10-13T10:46:50.584088Z",
     "iopub.status.idle": "2024-10-13T10:46:51.272366Z",
     "shell.execute_reply": "2024-10-13T10:46:51.271970Z",
     "shell.execute_reply.started": "2024-10-13T10:46:50.585780Z"
    }
   },
   "outputs": [],
   "source": [
    "matched = set(ent.text for doc in nlp.pipe(docs) for ent in doc.ents)"
   ]
  },
  {
   "cell_type": "markdown",
   "id": "d68c22b6-6c28-4ed9-8711-27a0a55cf204",
   "metadata": {},
   "source": [
    "- use aliases.jsonl to define initial group\n",
    "- filter aliases.jsonl for entities in group\n",
    "- filter entities.jsonl for entities in this group and friend of and friend of friend"
   ]
  },
  {
   "cell_type": "code",
   "execution_count": 36,
   "id": "f8b62cd2-b947-4bc5-804b-58104c05ae58",
   "metadata": {
    "execution": {
     "iopub.execute_input": "2024-10-13T15:07:46.769182Z",
     "iopub.status.busy": "2024-10-13T15:07:46.768591Z",
     "iopub.status.idle": "2024-10-13T15:07:47.315915Z",
     "shell.execute_reply": "2024-10-13T15:07:47.315640Z",
     "shell.execute_reply.started": "2024-10-13T15:07:46.769149Z"
    }
   },
   "outputs": [],
   "source": [
    "docs = list(nlp.pipe(docs))"
   ]
  },
  {
   "cell_type": "code",
   "execution_count": null,
   "id": "25c98d27-db35-4a52-b1f8-194ac1d7feda",
   "metadata": {
    "execution": {
     "iopub.execute_input": "2024-10-13T15:07:52.981964Z",
     "iopub.status.busy": "2024-10-13T15:07:52.981061Z",
     "iopub.status.idle": "2024-10-13T15:07:53.020609Z",
     "shell.execute_reply": "2024-10-13T15:07:53.020230Z",
     "shell.execute_reply.started": "2024-10-13T15:07:52.981909Z"
    }
   },
   "outputs": [],
   "source": [
    "displacy.render(docs[1], style=\"ent\")"
   ]
  },
  {
   "cell_type": "code",
   "execution_count": null,
   "id": "b25aec70-cca2-4dc2-96b4-7eb3ca1db9c9",
   "metadata": {
    "execution": {
     "iopub.execute_input": "2024-10-13T09:53:00.698643Z",
     "iopub.status.busy": "2024-10-13T09:53:00.697843Z",
     "iopub.status.idle": "2024-10-13T10:08:05.708506Z",
     "shell.execute_reply": "2024-10-13T10:08:05.707442Z",
     "shell.execute_reply.started": "2024-10-13T09:53:00.698601Z"
    },
    "scrolled": true
   },
   "outputs": [],
   "source": [
    "[p for p in patterns if p['id'] in set(ent.ent_id_ for doc in nlp.pipe(docs) for ent in doc.ents)]"
   ]
  },
  {
   "cell_type": "code",
   "execution_count": 29,
   "id": "da1c8336-6e38-42b9-b0b4-ee65d8999816",
   "metadata": {
    "execution": {
     "iopub.execute_input": "2024-10-13T10:48:31.283553Z",
     "iopub.status.busy": "2024-10-13T10:48:31.281009Z",
     "iopub.status.idle": "2024-10-13T10:48:32.069009Z",
     "shell.execute_reply": "2024-10-13T10:48:32.068330Z",
     "shell.execute_reply.started": "2024-10-13T10:48:31.283461Z"
    }
   },
   "outputs": [],
   "source": [
    "matched_ids = set(p['id'] for p in patterns if p['pattern'] in matched)"
   ]
  },
  {
   "cell_type": "code",
   "execution_count": 33,
   "id": "8b5b3daa-11ec-457a-b59b-d5d0cd09a551",
   "metadata": {
    "execution": {
     "iopub.execute_input": "2024-10-13T10:48:59.121675Z",
     "iopub.status.busy": "2024-10-13T10:48:59.120576Z",
     "iopub.status.idle": "2024-10-13T10:48:59.377965Z",
     "shell.execute_reply": "2024-10-13T10:48:59.377550Z",
     "shell.execute_reply.started": "2024-10-13T10:48:59.121626Z"
    }
   },
   "outputs": [],
   "source": [
    "filtered_entities = {k: v for k, v in raw_entities.items() if str(k) in matched_ids}"
   ]
  },
  {
   "cell_type": "code",
   "execution_count": 37,
   "id": "4142a5b5-c481-48df-991e-8f607d774b38",
   "metadata": {
    "execution": {
     "iopub.execute_input": "2024-10-13T10:49:57.160692Z",
     "iopub.status.busy": "2024-10-13T10:49:57.160510Z",
     "iopub.status.idle": "2024-10-13T10:49:57.925411Z",
     "shell.execute_reply": "2024-10-13T10:49:57.925076Z",
     "shell.execute_reply.started": "2024-10-13T10:49:57.160678Z"
    }
   },
   "outputs": [],
   "source": [
    "filtered_aliases = [alias for alias in raw_aliases if str(alias[\"entity\"]) in matched_ids]"
   ]
  },
  {
   "cell_type": "code",
   "execution_count": null,
   "id": "1d075792-b068-4789-9f65-51fb82f76a75",
   "metadata": {
    "execution": {
     "iopub.execute_input": "2024-10-13T10:49:58.325003Z",
     "iopub.status.busy": "2024-10-13T10:49:58.324806Z",
     "iopub.status.idle": "2024-10-13T10:49:58.344494Z",
     "shell.execute_reply": "2024-10-13T10:49:58.344061Z",
     "shell.execute_reply.started": "2024-10-13T10:49:58.324991Z"
    }
   },
   "outputs": [],
   "source": [
    "filtered_aliases"
   ]
  },
  {
   "cell_type": "code",
   "execution_count": null,
   "id": "2b810ad8-71b8-49e0-bcb1-61ec85c36a67",
   "metadata": {
    "execution": {
     "iopub.execute_input": "2024-10-13T10:37:10.676246Z",
     "iopub.status.busy": "2024-10-13T10:37:10.675589Z",
     "iopub.status.idle": "2024-10-13T10:37:10.717659Z",
     "shell.execute_reply": "2024-10-13T10:37:10.717223Z",
     "shell.execute_reply.started": "2024-10-13T10:37:10.676214Z"
    }
   },
   "outputs": [],
   "source": [
    "raw_entities[918573]"
   ]
  },
  {
   "cell_type": "code",
   "execution_count": 1,
   "id": "335f4c19-d28c-4e17-b11e-02ef1d295c19",
   "metadata": {
    "execution": {
     "iopub.execute_input": "2024-10-13T14:52:35.694166Z",
     "iopub.status.busy": "2024-10-13T14:52:35.693372Z",
     "iopub.status.idle": "2024-10-13T14:52:37.145787Z",
     "shell.execute_reply": "2024-10-13T14:52:37.145510Z",
     "shell.execute_reply.started": "2024-10-13T14:52:35.694101Z"
    }
   },
   "outputs": [],
   "source": [
    "from src.neo4j import extract_senzing_results"
   ]
  },
  {
   "cell_type": "code",
   "execution_count": null,
   "id": "e5a59ef4-aebe-49ff-a993-e4b7925206d4",
   "metadata": {
    "execution": {
     "iopub.execute_input": "2024-10-13T14:52:38.382221Z",
     "iopub.status.busy": "2024-10-13T14:52:38.381268Z",
     "iopub.status.idle": "2024-10-13T14:53:11.848595Z",
     "shell.execute_reply": "2024-10-13T14:53:11.848027Z",
     "shell.execute_reply.started": "2024-10-13T14:52:38.382182Z"
    }
   },
   "outputs": [],
   "source": [
    "entities = extract_senzing_results(\"data/ICIJ-entity-report-2024-06-21_12-04-57-std.json\")"
   ]
  },
  {
   "cell_type": "code",
   "execution_count": 41,
   "id": "fe219c2d-5885-4d3c-a319-090cd1907a7b",
   "metadata": {
    "execution": {
     "iopub.execute_input": "2024-10-13T15:13:49.669194Z",
     "iopub.status.busy": "2024-10-13T15:13:49.668578Z",
     "iopub.status.idle": "2024-10-13T15:13:49.699478Z",
     "shell.execute_reply": "2024-10-13T15:13:49.699200Z",
     "shell.execute_reply.started": "2024-10-13T15:13:49.669148Z"
    }
   },
   "outputs": [],
   "source": [
    "with open(\"data/icij-example/suspicious.txt\") as file:\n",
    "    names = [line.rstrip() for line in file]"
   ]
  },
  {
   "cell_type": "code",
   "execution_count": 46,
   "id": "cedbaed8-5720-4a5a-816b-8681f710492e",
   "metadata": {
    "execution": {
     "iopub.execute_input": "2024-10-13T15:17:56.744969Z",
     "iopub.status.busy": "2024-10-13T15:17:56.744351Z",
     "iopub.status.idle": "2024-10-13T15:17:56.783417Z",
     "shell.execute_reply": "2024-10-13T15:17:56.782896Z",
     "shell.execute_reply.started": "2024-10-13T15:17:56.744937Z"
    }
   },
   "outputs": [],
   "source": [
    "import pandas as pd"
   ]
  },
  {
   "cell_type": "code",
   "execution_count": null,
   "id": "59f74812-0846-4dc3-ac24-a454654aca53",
   "metadata": {
    "execution": {
     "iopub.execute_input": "2024-10-13T15:19:25.838712Z",
     "iopub.status.busy": "2024-10-13T15:19:25.838364Z",
     "iopub.status.idle": "2024-10-13T15:19:28.981743Z",
     "shell.execute_reply": "2024-10-13T15:19:28.981463Z",
     "shell.execute_reply.started": "2024-10-13T15:19:25.838688Z"
    }
   },
   "outputs": [],
   "source": [
    "df = pd.DataFrame.from_records(\n",
    "    [(name, list(filter(lambda ent: ent.name == name, [entity for k, entity in entities.items()]))) for name in names],\n",
    "    columns=['suspicion', 'matches']\n",
    ")\n",
    "df"
   ]
  },
  {
   "cell_type": "code",
   "execution_count": null,
   "id": "abd4c68a-a597-465a-a7ef-08df54229f9c",
   "metadata": {
    "execution": {
     "iopub.execute_input": "2024-10-13T15:22:06.637450Z",
     "iopub.status.busy": "2024-10-13T15:22:06.636317Z",
     "iopub.status.idle": "2024-10-13T15:22:06.667804Z",
     "shell.execute_reply": "2024-10-13T15:22:06.667354Z",
     "shell.execute_reply.started": "2024-10-13T15:22:06.637403Z"
    }
   },
   "outputs": [],
   "source": [
    "df.matches.explode().dropna().apply(lambda d: d.related.keys()).explode().unique()"
   ]
  },
  {
   "cell_type": "code",
   "execution_count": 53,
   "id": "c2d03b93-96e0-4753-91bd-b6ab015b3a4c",
   "metadata": {
    "execution": {
     "iopub.execute_input": "2024-10-13T15:21:00.130580Z",
     "iopub.status.busy": "2024-10-13T15:21:00.129506Z",
     "iopub.status.idle": "2024-10-13T15:21:00.165163Z",
     "shell.execute_reply": "2024-10-13T15:21:00.164665Z",
     "shell.execute_reply.started": "2024-10-13T15:21:00.130539Z"
    }
   },
   "outputs": [],
   "source": [
    "rank_0 = df.matches.explode().dropna().apply(lambda d: d.entity_uid).unique()"
   ]
  },
  {
   "cell_type": "code",
   "execution_count": 59,
   "id": "5d0f22ff-139f-4cbe-af07-b14e099c6193",
   "metadata": {
    "execution": {
     "iopub.execute_input": "2024-10-13T15:22:14.149233Z",
     "iopub.status.busy": "2024-10-13T15:22:14.148321Z",
     "iopub.status.idle": "2024-10-13T15:22:14.185582Z",
     "shell.execute_reply": "2024-10-13T15:22:14.185144Z",
     "shell.execute_reply.started": "2024-10-13T15:22:14.149177Z"
    }
   },
   "outputs": [],
   "source": [
    "rank_1 = df.matches.explode().dropna().apply(lambda d: d.related.keys()).explode().unique()"
   ]
  },
  {
   "cell_type": "code",
   "execution_count": 69,
   "id": "50baadbd-2f4c-426f-b33d-fad66f4ff170",
   "metadata": {
    "execution": {
     "iopub.execute_input": "2024-10-13T15:28:11.088245Z",
     "iopub.status.busy": "2024-10-13T15:28:11.087901Z",
     "iopub.status.idle": "2024-10-13T15:28:11.125844Z",
     "shell.execute_reply": "2024-10-13T15:28:11.125417Z",
     "shell.execute_reply.started": "2024-10-13T15:28:11.088222Z"
    }
   },
   "outputs": [],
   "source": [
    "rank_2 = set(ent_id for seed_id in set(rank_0) | set(rank_1) for ent_id in entities[seed_id].related.keys())"
   ]
  },
  {
   "cell_type": "code",
   "execution_count": null,
   "id": "fd9d54f7-1be5-41fa-8d5e-a30de8ca1081",
   "metadata": {
    "execution": {
     "iopub.execute_input": "2024-10-13T15:36:01.591547Z",
     "iopub.status.busy": "2024-10-13T15:36:01.590949Z",
     "iopub.status.idle": "2024-10-13T15:36:03.118946Z",
     "shell.execute_reply": "2024-10-13T15:36:03.118651Z",
     "shell.execute_reply.started": "2024-10-13T15:36:01.591515Z"
    }
   },
   "outputs": [],
   "source": [
    "from src.senzing_pipeline import filter_senzing"
   ]
  },
  {
   "cell_type": "code",
   "execution_count": null,
   "id": "9a3f44bd-1ff3-4295-9d05-e737a422d5e7",
   "metadata": {
    "execution": {
     "iopub.execute_input": "2024-10-13T15:36:23.814655Z",
     "iopub.status.busy": "2024-10-13T15:36:23.813977Z",
     "iopub.status.idle": "2024-10-13T15:37:06.198271Z",
     "shell.execute_reply": "2024-10-13T15:37:06.197709Z",
     "shell.execute_reply.started": "2024-10-13T15:36:23.814630Z"
    }
   },
   "outputs": [],
   "source": [
    "entity_ids = filter_senzing()"
   ]
  },
  {
   "cell_type": "code",
   "execution_count": null,
   "id": "b5badd3e-400d-4d08-9221-7e58ccbf6de2",
   "metadata": {
    "execution": {
     "iopub.execute_input": "2024-10-13T15:39:07.285265Z",
     "iopub.status.busy": "2024-10-13T15:39:07.284338Z",
     "iopub.status.idle": "2024-10-13T15:39:07.324021Z",
     "shell.execute_reply": "2024-10-13T15:39:07.323569Z",
     "shell.execute_reply.started": "2024-10-13T15:39:07.285225Z"
    }
   },
   "outputs": [],
   "source": [
    "entity_ids"
   ]
  },
  {
   "cell_type": "code",
   "execution_count": null,
   "id": "112854ec-6301-451c-af72-2211b7e17812",
   "metadata": {
    "execution": {
     "iopub.execute_input": "2024-10-13T15:39:19.058770Z",
     "iopub.status.busy": "2024-10-13T15:39:19.058081Z",
     "iopub.status.idle": "2024-10-13T15:40:19.416075Z",
     "shell.execute_reply": "2024-10-13T15:40:19.415594Z",
     "shell.execute_reply.started": "2024-10-13T15:39:19.058723Z"
    }
   },
   "outputs": [],
   "source": [
    "    raw_entities = load_entities()\n",
    "    raw_aliases = load_aliases()"
   ]
  },
  {
   "cell_type": "code",
   "execution_count": 79,
   "id": "d5666d3b-c3fc-469e-ad5b-29a766a7b2e7",
   "metadata": {
    "execution": {
     "iopub.execute_input": "2024-10-13T15:43:29.537060Z",
     "iopub.status.busy": "2024-10-13T15:43:29.536393Z",
     "iopub.status.idle": "2024-10-13T15:43:29.571013Z",
     "shell.execute_reply": "2024-10-13T15:43:29.570467Z",
     "shell.execute_reply.started": "2024-10-13T15:43:29.537023Z"
    }
   },
   "outputs": [],
   "source": [
    "entity_ids = set(str(ent_id) for ent_id in entity_ids)"
   ]
  },
  {
   "cell_type": "code",
   "execution_count": 83,
   "id": "0636d319-c718-471e-b89d-a95276aeb413",
   "metadata": {
    "execution": {
     "iopub.execute_input": "2024-10-13T15:43:44.314212Z",
     "iopub.status.busy": "2024-10-13T15:43:44.312072Z",
     "iopub.status.idle": "2024-10-13T15:43:45.188270Z",
     "shell.execute_reply": "2024-10-13T15:43:45.187879Z",
     "shell.execute_reply.started": "2024-10-13T15:43:44.314069Z"
    }
   },
   "outputs": [],
   "source": [
    "    filtered_entities = {k: v for k, v in raw_entities.items() if str(k) in entity_ids}\n",
    "    filtered_aliases = [alias for alias in raw_aliases if str(alias[\"entity\"]) in entity_ids]"
   ]
  },
  {
   "cell_type": "code",
   "execution_count": null,
   "id": "f6244317-adce-42b5-b654-00ceece071bd",
   "metadata": {
    "execution": {
     "iopub.execute_input": "2024-10-13T15:41:15.025217Z",
     "iopub.status.busy": "2024-10-13T15:41:15.023597Z",
     "iopub.status.idle": "2024-10-13T15:41:15.072218Z",
     "shell.execute_reply": "2024-10-13T15:41:15.071380Z",
     "shell.execute_reply.started": "2024-10-13T15:41:15.025015Z"
    }
   },
   "outputs": [],
   "source": [
    "    entities = generate_entities(filtered_entities, countries)\n",
    "    write_entities(entities)"
   ]
  },
  {
   "cell_type": "code",
   "execution_count": null,
   "id": "b9d28269-e719-4723-8254-2d5f85748e3a",
   "metadata": {},
   "outputs": [],
   "source": []
  }
 ],
 "metadata": {
  "kernelspec": {
   "display_name": "venv",
   "language": "python",
   "name": "python3"
  },
  "language_info": {
   "codemirror_mode": {
    "name": "ipython",
    "version": 3
   },
   "file_extension": ".py",
   "mimetype": "text/x-python",
   "name": "python",
   "nbconvert_exporter": "python",
   "pygments_lexer": "ipython3",
   "version": "3.12.8"
  }
 },
 "nbformat": 4,
 "nbformat_minor": 5
}
